{
 "cells": [
  {
   "cell_type": "code",
   "id": "initial_id",
   "metadata": {
    "collapsed": true,
    "ExecuteTime": {
     "end_time": "2025-09-09T06:13:24.931127Z",
     "start_time": "2025-09-09T06:13:24.924411Z"
    }
   },
   "source": [
    "import time\n",
    "import json\n",
    "import pandas as pd\n",
    "import pymysql\n",
    "from bs4 import BeautifulSoup\n",
    "from selenium import webdriver\n",
    "\n",
    "\n",
    "def MyProtein_store():\n",
    "    result = []\n",
    "    MyProtein_URL = \"https://www.myprotein.co.kr/c/nutrition/protein/\"\n",
    "    wd = webdriver.Chrome()\n",
    "    wd.get(MyProtein_URL)\n",
    "    time.sleep(1)\n",
    "    html = wd.page_source\n",
    "    soup = BeautifulSoup(html, 'html.parser')\n",
    "    # div -> product-list 상품 리스트 목록들\n",
    "    # product-card-wrapper -> 개별 상품 카드\n",
    "    # 상품 명 product-card-wrapper -> div(class=flex flex-col) -> a.text\n",
    "    # product_list = soup.select('#product_list #product-card-wrapper')\n",
    "    # 가격 span(class = price font-semibold my-auto text-xl) 안의 text\n",
    "    product_all = soup.find(\"product-list\", {\"id\": \"product-list-wrapper\"})\n",
    "    product_list = product_all('product-card-wrapper')\n",
    "    print(f\"총 {len(product_list)}개의 아이템을 찾았습니다.\")\n",
    "    count: int = 1\n",
    "    for item in product_list:\n",
    "        product_name = \"\"\n",
    "        product_price = \"\"\n",
    "        product = item.find_all('div', {'class': 'flex flex-col'})\n",
    "        product_name = product[0].find('a').text\n",
    "        if product_name == \"\":\n",
    "            product_name = \"상품명 없음\"\n",
    "        product_price = product[1].find('span', {'class': 'price font-semibold my-auto text-xl'}).text\n",
    "        if product_price == \"\":\n",
    "            product_price = \"가격 없음\"\n",
    "        print(f\"상품 명 : {product_name} 상품 가격 : {product_price}\")\n",
    "        result.append({\"index\": count, \"ProductName\": product_name, \"Price\": product_price})\n",
    "        count += 1\n",
    "\n",
    "\n",
    "    wd.quit()\n",
    "    return result\n"
   ],
   "outputs": [],
   "execution_count": 26
  },
  {
   "metadata": {
    "ExecuteTime": {
     "end_time": "2025-09-09T06:13:26.628863Z",
     "start_time": "2025-09-09T06:13:26.624067Z"
    }
   },
   "cell_type": "code",
   "source": [
    "def save_to_json(data):\n",
    "    json_file = \"MyProtein.json\"\n",
    "    with open(json_file, \"w\", encoding=\"utf-8\") as f:\n",
    "        json.dump(data, f, ensure_ascii=False, indent=4)\n",
    "        print(f\"JSON 파일 저장 완료 : {json_file}\")\n",
    "\n",
    "def save_to_mariadb(data):\n",
    "    db = pymysql.connect(\n",
    "        host=\"localhost\",\n",
    "        user=\"webuser\",  # 변경 필요\n",
    "        password=\"webuser\",  # 변경 필요\n",
    "        database=\"webdb\"\n",
    "    )\n",
    "    cursor = db.cursor()\n",
    "\n",
    "    create_table_query = \"\"\"\n",
    "    CREATE TABLE IF NOT EXISTS myprotein_shake (\n",
    "        id INT AUTO_INCREMENT PRIMARY KEY,\n",
    "        ProductName VARCHAR(255) NOT NULL,\n",
    "        Price VARCHAR(255) NOT NULL\n",
    "    )\n",
    "    \"\"\"\n",
    "    cursor.execute(create_table_query)\n",
    "\n",
    "    insert_query = \"\"\"\n",
    "    INSERT INTO myprotein_shake (ProductName, Price)\n",
    "    VALUES (%s, %s)\n",
    "                   \"\"\"\n",
    "\n",
    "    try:\n",
    "        cursor.executemany(insert_query, [(d[\"ProductName\"], d[\"Price\"]) for d in data])\n",
    "        db.commit()\n",
    "        print(f\"{len(data)}개의 프로틴 쉐이커가 DataBase에 저장되었습니다.\")\n",
    "    except Exception as e:\n",
    "        db.rollback()\n",
    "        print(f\"데이터 저장 중 오류 발생 : {e}\")\n",
    "\n",
    "    cursor.close()\n",
    "    db.close()"
   ],
   "id": "7ee6b71c20b7af89",
   "outputs": [],
   "execution_count": 27
  },
  {
   "metadata": {
    "ExecuteTime": {
     "end_time": "2025-09-09T06:20:38.974902Z",
     "start_time": "2025-09-09T06:20:31.096333Z"
    }
   },
   "cell_type": "code",
   "source": [
    "def main():\n",
    "    print(\"🚀 MyProtein 매장 정보 크롤링 시작...\")\n",
    "    store_data = MyProtein_store()\n",
    "    print(f\"store_data 확인 : {store_data} \")\n",
    "    # 파일 기반 저장,\n",
    "    print(\"\\n💾 JSON 파일 저장 중...\")\n",
    "    save_to_json(store_data)\n",
    "    # 데이터베이스 저장.\n",
    "    print(\"\\n📂 MariaDB 저장 중...\")\n",
    "    save_to_mariadb(store_data)\n",
    "\n",
    "    print(\"\\n🎉 모든 작업 완료!\")\n",
    "\n",
    "if __name__ == '__main__':\n",
    "    main()"
   ],
   "id": "d1b8c61674ccf965",
   "outputs": [
    {
     "name": "stdout",
     "output_type": "stream",
     "text": [
      "🚀 MyProtein 매장 정보 크롤링 시작...\n",
      "총 26개의 아이템을 찾았습니다.\n",
      "상품 명 :  임팩트 웨이 프로틴  상품 가격 :   discounted price   ₩24,900‎  \n",
      "상품 명 :  임팩트 웨이 아이솔레이트  상품 가격 :   discounted price   ₩53,900‎  \n",
      "상품 명 :  클리어 웨이 프로틴  상품 가격 :   discounted price   ₩66,900‎  \n",
      "상품 명 :  임팩트 웨이 게이너  상품 가격 :   discounted price   ₩52,900‎  \n",
      "상품 명 :  콜라겐 파우더  상품 가격 :   discounted price   ₩49,400‎  \n",
      "상품 명 :  콜라겐 프로틴 (구: 가수분해콜라겐펩티드)  상품 가격 :   discounted price   ₩65,900‎  \n",
      "상품 명 :  임팩트 소이 프로틴  상품 가격 :   discounted price   ₩29,900‎  \n",
      "상품 명 :  오리진 프로틴  상품 가격 :   discounted price   ₩94,900‎  \n",
      "상품 명 :  임팩트 다이어트 웨이  상품 가격 :   discounted price   ₩52,900‎  \n",
      "상품 명 :  에센셜 웨이 프로틴  상품 가격 :   discounted price   ₩53,900‎  \n",
      "상품 명 :  아침 식사 스무디  상품 가격 :   discounted price   ₩81,900‎  \n",
      "상품 명 :  임팩트 비건 프로틴  상품 가격 :   discounted price   ₩18,900‎  \n",
      "상품 명 :  느린 흡수 카제인 (구: 미셀라 카세인 (Micellar Casein))  상품 가격 :   discounted price   ₩59,900‎  \n",
      "상품 명 :  클리어 웨이 프로틴(샘플)  상품 가격 :   discounted price   ₩4,900‎  \n",
      "상품 명 :  임팩트 완두콩 프로틴  상품 가격 :   discounted price   ₩35,900‎  \n",
      "상품 명 :  클리어 비건 프로틴  상품 가격 :   discounted price   ₩49,900‎  \n",
      "상품 명 :  클리어 웨이 게이너  상품 가격 :   discounted price   ₩82,900‎  \n",
      "상품 명 :  프로틴 식사대용 블렌드 (구: 저칼로리 식사대용 쉐이크 (VLCD))  상품 가격 :   discounted price   ₩35,900‎  \n",
      "상품 명 :  어드밴스드 웨이트 게이너  상품 가격 :   discounted price   ₩99,900‎  \n",
      "상품 명 :  THE 웨이  상품 가격 :   discounted price   ₩85,900‎  \n",
      "상품 명 :  비건 플랜트 프로틴 슈퍼 블렌드  상품 가격 :   discounted price   ₩49,900‎  \n",
      "상품 명 :  임팩트 웨이 프로틴 - 파인애플 맛  상품 가격 :   discounted price   ₩58,900‎  \n",
      "상품 명 :  비건 플랜트 프로틴 슈퍼 블렌드(샘플)  상품 가격 :   discounted price   ₩4,900‎  \n",
      "상품 명 :  임팩트 웨이 프로틴 - 마차 라떼  상품 가격 :   discounted price   ₩25,900‎  \n",
      "상품 명 :  퓨처 웨이(Future Whey)  상품 가격 :   discounted price   ₩38,900‎  \n",
      "상품 명 :  다이어트 프로틴 블렌드 (구: 액티브 우먼 다이어트 블렌드™)  상품 가격 :  \n",
      "store_data 확인 : [{'index': 1, 'ProductName': ' 임팩트 웨이 프로틴 ', 'Price': '  discounted price   ₩24,900\\u200e  '}, {'index': 2, 'ProductName': ' 임팩트 웨이 아이솔레이트 ', 'Price': '  discounted price   ₩53,900\\u200e  '}, {'index': 3, 'ProductName': ' 클리어 웨이 프로틴 ', 'Price': '  discounted price   ₩66,900\\u200e  '}, {'index': 4, 'ProductName': ' 임팩트 웨이 게이너 ', 'Price': '  discounted price   ₩52,900\\u200e  '}, {'index': 5, 'ProductName': ' 콜라겐 파우더 ', 'Price': '  discounted price   ₩49,400\\u200e  '}, {'index': 6, 'ProductName': ' 콜라겐 프로틴 (구: 가수분해콜라겐펩티드) ', 'Price': '  discounted price   ₩65,900\\u200e  '}, {'index': 7, 'ProductName': ' 임팩트 소이 프로틴 ', 'Price': '  discounted price   ₩29,900\\u200e  '}, {'index': 8, 'ProductName': ' 오리진 프로틴 ', 'Price': '  discounted price   ₩94,900\\u200e  '}, {'index': 9, 'ProductName': ' 임팩트 다이어트 웨이 ', 'Price': '  discounted price   ₩52,900\\u200e  '}, {'index': 10, 'ProductName': ' 에센셜 웨이 프로틴 ', 'Price': '  discounted price   ₩53,900\\u200e  '}, {'index': 11, 'ProductName': ' 아침 식사 스무디 ', 'Price': '  discounted price   ₩81,900\\u200e  '}, {'index': 12, 'ProductName': ' 임팩트 비건 프로틴 ', 'Price': '  discounted price   ₩18,900\\u200e  '}, {'index': 13, 'ProductName': ' 느린 흡수 카제인 (구: 미셀라 카세인 (Micellar Casein)) ', 'Price': '  discounted price   ₩59,900\\u200e  '}, {'index': 14, 'ProductName': ' 클리어 웨이 프로틴(샘플) ', 'Price': '  discounted price   ₩4,900\\u200e  '}, {'index': 15, 'ProductName': ' 임팩트 완두콩 프로틴 ', 'Price': '  discounted price   ₩35,900\\u200e  '}, {'index': 16, 'ProductName': ' 클리어 비건 프로틴 ', 'Price': '  discounted price   ₩49,900\\u200e  '}, {'index': 17, 'ProductName': ' 클리어 웨이 게이너 ', 'Price': '  discounted price   ₩82,900\\u200e  '}, {'index': 18, 'ProductName': ' 프로틴 식사대용 블렌드 (구: 저칼로리 식사대용 쉐이크 (VLCD)) ', 'Price': '  discounted price   ₩35,900\\u200e  '}, {'index': 19, 'ProductName': ' 어드밴스드 웨이트 게이너 ', 'Price': '  discounted price   ₩99,900\\u200e  '}, {'index': 20, 'ProductName': ' THE 웨이 ', 'Price': '  discounted price   ₩85,900\\u200e  '}, {'index': 21, 'ProductName': ' 비건 플랜트 프로틴 슈퍼 블렌드 ', 'Price': '  discounted price   ₩49,900\\u200e  '}, {'index': 22, 'ProductName': ' 임팩트 웨이 프로틴 - 파인애플 맛 ', 'Price': '  discounted price   ₩58,900\\u200e  '}, {'index': 23, 'ProductName': ' 비건 플랜트 프로틴 슈퍼 블렌드(샘플) ', 'Price': '  discounted price   ₩4,900\\u200e  '}, {'index': 24, 'ProductName': ' 임팩트 웨이 프로틴 - 마차 라떼 ', 'Price': '  discounted price   ₩25,900\\u200e  '}, {'index': 25, 'ProductName': ' 퓨처 웨이(Future Whey) ', 'Price': '  discounted price   ₩38,900\\u200e  '}, {'index': 26, 'ProductName': ' 다이어트 프로틴 블렌드 (구: 액티브 우먼 다이어트 블렌드™) ', 'Price': ' '}] \n",
      "\n",
      "💾 JSON 파일 저장 중...\n",
      "JSON 파일 저장 완료 : MyProtein.json\n",
      "\n",
      "📂 MariaDB 저장 중...\n",
      "26개의 프로틴 쉐이커가 DataBase에 저장되었습니다.\n",
      "\n",
      "🎉 모든 작업 완료!\n"
     ]
    }
   ],
   "execution_count": 31
  }
 ],
 "metadata": {
  "kernelspec": {
   "display_name": "Python 3",
   "language": "python",
   "name": "python3"
  },
  "language_info": {
   "codemirror_mode": {
    "name": "ipython",
    "version": 2
   },
   "file_extension": ".py",
   "mimetype": "text/x-python",
   "name": "python",
   "nbconvert_exporter": "python",
   "pygments_lexer": "ipython2",
   "version": "2.7.6"
  }
 },
 "nbformat": 4,
 "nbformat_minor": 5
}
