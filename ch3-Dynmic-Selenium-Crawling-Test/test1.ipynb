{
 "cells": [
  {
   "cell_type": "code",
   "id": "initial_id",
   "metadata": {
    "collapsed": true,
    "ExecuteTime": {
     "end_time": "2025-09-09T01:03:26.481616Z",
     "start_time": "2025-09-09T01:03:23.291945Z"
    }
   },
   "source": [
    "# selenium 설치,\n",
    "# pip install selenium\n",
    "\n",
    "# 웹 드라이버 실행, (Chrome)\n",
    "from selenium import webdriver\n",
    "from selenium.webdriver import ActionChains\n",
    "\n",
    "# Chrome 드라이버 실행.\n",
    "driver = webdriver.Chrome()\n",
    "# 특정 URL 열기. 구글\n",
    "driver.get(\"http://www.google.com\")\n",
    "# driver.quit()"
   ],
   "outputs": [],
   "execution_count": 1
  },
  {
   "metadata": {
    "ExecuteTime": {
     "end_time": "2025-09-09T01:09:25.363439Z",
     "start_time": "2025-09-09T01:09:23.340766Z"
    }
   },
   "cell_type": "code",
   "source": [
    "# 2 웹페이지 요소 찾기 (find_element, find_elements)\n",
    "from selenium import webdriver\n",
    "\n",
    "driver = webdriver.Chrome()\n",
    "driver.get(\"http://www.google.com\")\n",
    "\n",
    "#요소 찾기 (name 속성 사용)\n",
    "search_box = driver.find_element(\"name\",\"q\")\n",
    "print(search_box)\n",
    "\n",
    "#요소 여러 개 찾기 (class 속성 사용)\n",
    "links = driver.find_elements(\"tag name\", \"a\")\n",
    "print(len(links))\n",
    "# driver.quit()"
   ],
   "id": "d2ad9d270b40fe52",
   "outputs": [
    {
     "name": "stdout",
     "output_type": "stream",
     "text": [
      "<selenium.webdriver.remote.webelement.WebElement (session=\"99f22448ebf225e78e378b388c933bbc\", element=\"f.4D22317F34A3CD588CD330B37E71020A.d.A4944DE2990D0A780AA78645A1362864.e.2\")>\n",
      "16\n"
     ]
    }
   ],
   "execution_count": 2
  },
  {
   "metadata": {
    "ExecuteTime": {
     "end_time": "2025-09-09T01:09:52.388990Z",
     "start_time": "2025-09-09T01:09:43.108649Z"
    }
   },
   "cell_type": "code",
   "source": [
    "# 3 웹 페이지 로딩 대기( implicitly_wait, time.sleep)\n",
    "# 웹페이지가 완전히 로드될 때까지 기다리는 기능,\n",
    "from selenium import webdriver\n",
    "import time\n",
    "\n",
    "driver = webdriver.Chrome()\n",
    "driver.get(\"http://www.google.com\")\n",
    "\n",
    "#암묵적 대기, (최대 10초까지 대기, 실행이 되면, 즉시 실행)\n",
    "# 전역처럼, 한번만 실행함.\n",
    "# driver.implicitly_wait(10)\n",
    "\n",
    "# 명시적 대기 (5초), 무조건 5초 기다림. , 매번 코드를 작성해야함.\n",
    "time.sleep(5)\n",
    "driver.quit()"
   ],
   "id": "5faecea0ae3a3967",
   "outputs": [],
   "execution_count": 3
  },
  {
   "metadata": {
    "ExecuteTime": {
     "end_time": "2025-09-09T01:10:25.451612Z",
     "start_time": "2025-09-09T01:09:58.808177Z"
    }
   },
   "cell_type": "code",
   "source": [
    "# 4 특정 요소 클릭 (click)\n",
    "from selenium import webdriver\n",
    "import time\n",
    "\n",
    "driver = webdriver.Chrome()\n",
    "driver.get(\"http://www.google.com\")\n",
    "\n",
    "time.sleep(5)\n",
    "\n",
    "# 구글 , 이메일 버튼 클릭, Gmail\n",
    "button = driver.find_element(\"link text\", \"Gmail\")\n",
    "\n",
    "button.click()\n",
    "\n",
    "time.sleep(5)\n",
    "\n",
    "# driver.quit()"
   ],
   "id": "7891b440c2cb91c",
   "outputs": [],
   "execution_count": 5
  },
  {
   "metadata": {
    "ExecuteTime": {
     "end_time": "2025-09-09T01:19:05.327906Z",
     "start_time": "2025-09-09T01:18:57.148285Z"
    }
   },
   "cell_type": "code",
   "source": [
    "# 4 특정 요소 클릭 (click)\n",
    "from selenium import webdriver\n",
    "import time\n",
    "\n",
    "driver = webdriver.Chrome()\n",
    "driver.get(\"http://www.google.com\")\n",
    "\n",
    "time.sleep(5)\n",
    "\n",
    "# 구글 , 이메일 버튼 클릭, Gmail\n",
    "button = driver.find_element(\"link text\", \"Gmail\")\n",
    "\n",
    "button.click()\n",
    "\n",
    "time.sleep(5)\n",
    "\n",
    "# driver.quit()"
   ],
   "id": "287524e8a8c19036",
   "outputs": [
    {
     "ename": "InvalidSessionIdException",
     "evalue": "Message: invalid session id: session deleted as the browser has closed the connection\nfrom disconnected: not connected to DevTools\n  (Session info: chrome=139.0.7258.157); For documentation on this error, please visit: https://www.selenium.dev/documentation/webdriver/troubleshooting/errors#invalidsessionidexception\nStacktrace:\n\tGetHandleVerifier [0x0x7ff6d7473d85+79397]\n\tGetHandleVerifier [0x0x7ff6d7473de0+79488]\n\t(No symbol) [0x0x7ff6d721c0fa]\n\t(No symbol) [0x0x7ff6d7208355]\n\t(No symbol) [0x0x7ff6d722ceee]\n\t(No symbol) [0x0x7ff6d72a27c5]\n\t(No symbol) [0x0x7ff6d72c2c72]\n\t(No symbol) [0x0x7ff6d729af73]\n\t(No symbol) [0x0x7ff6d72641b1]\n\t(No symbol) [0x0x7ff6d7264f43]\n\tGetHandleVerifier [0x0x7ff6d773e1ed+3005069]\n\tGetHandleVerifier [0x0x7ff6d773831d+2980797]\n\tGetHandleVerifier [0x0x7ff6d7757e0d+3110573]\n\tGetHandleVerifier [0x0x7ff6d748d6de+184190]\n\tGetHandleVerifier [0x0x7ff6d749516f+215567]\n\tGetHandleVerifier [0x0x7ff6d747c974+115220]\n\tGetHandleVerifier [0x0x7ff6d747cb29+115657]\n\tGetHandleVerifier [0x0x7ff6d7463268+11016]\n\tBaseThreadInitThunk [0x0x7ffab5657374+20]\n\tRtlUserThreadStart [0x0x7ffab68dcc91+33]\n",
     "output_type": "error",
     "traceback": [
      "\u001B[31m---------------------------------------------------------------------------\u001B[39m",
      "\u001B[31mInvalidSessionIdException\u001B[39m                 Traceback (most recent call last)",
      "\u001B[36mCell\u001B[39m\u001B[36m \u001B[39m\u001B[32mIn[6]\u001B[39m\u001B[32m, line 11\u001B[39m\n\u001B[32m      8\u001B[39m time.sleep(\u001B[32m5\u001B[39m)\n\u001B[32m     10\u001B[39m \u001B[38;5;66;03m# 구글 , 이메일 버튼 클릭, Gmail\u001B[39;00m\n\u001B[32m---> \u001B[39m\u001B[32m11\u001B[39m button = \u001B[43mdriver\u001B[49m\u001B[43m.\u001B[49m\u001B[43mfind_element\u001B[49m\u001B[43m(\u001B[49m\u001B[33;43m\"\u001B[39;49m\u001B[33;43mlink text\u001B[39;49m\u001B[33;43m\"\u001B[39;49m\u001B[43m,\u001B[49m\u001B[43m \u001B[49m\u001B[33;43m\"\u001B[39;49m\u001B[33;43mGmail\u001B[39;49m\u001B[33;43m\"\u001B[39;49m\u001B[43m)\u001B[49m\n\u001B[32m     13\u001B[39m button.click()\n\u001B[32m     15\u001B[39m time.sleep(\u001B[32m5\u001B[39m)\n",
      "\u001B[36mFile \u001B[39m\u001B[32mD:\\Python\\2-Python-Crawling\\.venv\\Lib\\site-packages\\selenium\\webdriver\\remote\\webdriver.py:926\u001B[39m, in \u001B[36mWebDriver.find_element\u001B[39m\u001B[34m(self, by, value)\u001B[39m\n\u001B[32m    923\u001B[39m         \u001B[38;5;28;01mraise\u001B[39;00m NoSuchElementException(\u001B[33mf\u001B[39m\u001B[33m\"\u001B[39m\u001B[33mCannot locate relative element with: \u001B[39m\u001B[38;5;132;01m{\u001B[39;00mby.root\u001B[38;5;132;01m}\u001B[39;00m\u001B[33m\"\u001B[39m)\n\u001B[32m    924\u001B[39m     \u001B[38;5;28;01mreturn\u001B[39;00m elements[\u001B[32m0\u001B[39m]\n\u001B[32m--> \u001B[39m\u001B[32m926\u001B[39m \u001B[38;5;28;01mreturn\u001B[39;00m \u001B[38;5;28;43mself\u001B[39;49m\u001B[43m.\u001B[49m\u001B[43mexecute\u001B[49m\u001B[43m(\u001B[49m\u001B[43mCommand\u001B[49m\u001B[43m.\u001B[49m\u001B[43mFIND_ELEMENT\u001B[49m\u001B[43m,\u001B[49m\u001B[43m \u001B[49m\u001B[43m{\u001B[49m\u001B[33;43m\"\u001B[39;49m\u001B[33;43musing\u001B[39;49m\u001B[33;43m\"\u001B[39;49m\u001B[43m:\u001B[49m\u001B[43m \u001B[49m\u001B[43mby\u001B[49m\u001B[43m,\u001B[49m\u001B[43m \u001B[49m\u001B[33;43m\"\u001B[39;49m\u001B[33;43mvalue\u001B[39;49m\u001B[33;43m\"\u001B[39;49m\u001B[43m:\u001B[49m\u001B[43m \u001B[49m\u001B[43mvalue\u001B[49m\u001B[43m}\u001B[49m\u001B[43m)\u001B[49m[\u001B[33m\"\u001B[39m\u001B[33mvalue\u001B[39m\u001B[33m\"\u001B[39m]\n",
      "\u001B[36mFile \u001B[39m\u001B[32mD:\\Python\\2-Python-Crawling\\.venv\\Lib\\site-packages\\selenium\\webdriver\\remote\\webdriver.py:458\u001B[39m, in \u001B[36mWebDriver.execute\u001B[39m\u001B[34m(self, driver_command, params)\u001B[39m\n\u001B[32m    455\u001B[39m response = cast(RemoteConnection, \u001B[38;5;28mself\u001B[39m.command_executor).execute(driver_command, params)\n\u001B[32m    457\u001B[39m \u001B[38;5;28;01mif\u001B[39;00m response:\n\u001B[32m--> \u001B[39m\u001B[32m458\u001B[39m     \u001B[38;5;28;43mself\u001B[39;49m\u001B[43m.\u001B[49m\u001B[43merror_handler\u001B[49m\u001B[43m.\u001B[49m\u001B[43mcheck_response\u001B[49m\u001B[43m(\u001B[49m\u001B[43mresponse\u001B[49m\u001B[43m)\u001B[49m\n\u001B[32m    459\u001B[39m     response[\u001B[33m\"\u001B[39m\u001B[33mvalue\u001B[39m\u001B[33m\"\u001B[39m] = \u001B[38;5;28mself\u001B[39m._unwrap_value(response.get(\u001B[33m\"\u001B[39m\u001B[33mvalue\u001B[39m\u001B[33m\"\u001B[39m, \u001B[38;5;28;01mNone\u001B[39;00m))\n\u001B[32m    460\u001B[39m     \u001B[38;5;28;01mreturn\u001B[39;00m response\n",
      "\u001B[36mFile \u001B[39m\u001B[32mD:\\Python\\2-Python-Crawling\\.venv\\Lib\\site-packages\\selenium\\webdriver\\remote\\errorhandler.py:232\u001B[39m, in \u001B[36mErrorHandler.check_response\u001B[39m\u001B[34m(self, response)\u001B[39m\n\u001B[32m    230\u001B[39m         alert_text = value[\u001B[33m\"\u001B[39m\u001B[33malert\u001B[39m\u001B[33m\"\u001B[39m].get(\u001B[33m\"\u001B[39m\u001B[33mtext\u001B[39m\u001B[33m\"\u001B[39m)\n\u001B[32m    231\u001B[39m     \u001B[38;5;28;01mraise\u001B[39;00m exception_class(message, screen, stacktrace, alert_text)  \u001B[38;5;66;03m# type: ignore[call-arg]  # mypy is not smart enough here\u001B[39;00m\n\u001B[32m--> \u001B[39m\u001B[32m232\u001B[39m \u001B[38;5;28;01mraise\u001B[39;00m exception_class(message, screen, stacktrace)\n",
      "\u001B[31mInvalidSessionIdException\u001B[39m: Message: invalid session id: session deleted as the browser has closed the connection\nfrom disconnected: not connected to DevTools\n  (Session info: chrome=139.0.7258.157); For documentation on this error, please visit: https://www.selenium.dev/documentation/webdriver/troubleshooting/errors#invalidsessionidexception\nStacktrace:\n\tGetHandleVerifier [0x0x7ff6d7473d85+79397]\n\tGetHandleVerifier [0x0x7ff6d7473de0+79488]\n\t(No symbol) [0x0x7ff6d721c0fa]\n\t(No symbol) [0x0x7ff6d7208355]\n\t(No symbol) [0x0x7ff6d722ceee]\n\t(No symbol) [0x0x7ff6d72a27c5]\n\t(No symbol) [0x0x7ff6d72c2c72]\n\t(No symbol) [0x0x7ff6d729af73]\n\t(No symbol) [0x0x7ff6d72641b1]\n\t(No symbol) [0x0x7ff6d7264f43]\n\tGetHandleVerifier [0x0x7ff6d773e1ed+3005069]\n\tGetHandleVerifier [0x0x7ff6d773831d+2980797]\n\tGetHandleVerifier [0x0x7ff6d7757e0d+3110573]\n\tGetHandleVerifier [0x0x7ff6d748d6de+184190]\n\tGetHandleVerifier [0x0x7ff6d749516f+215567]\n\tGetHandleVerifier [0x0x7ff6d747c974+115220]\n\tGetHandleVerifier [0x0x7ff6d747cb29+115657]\n\tGetHandleVerifier [0x0x7ff6d7463268+11016]\n\tBaseThreadInitThunk [0x0x7ffab5657374+20]\n\tRtlUserThreadStart [0x0x7ffab68dcc91+33]\n"
     ]
    }
   ],
   "execution_count": 6
  },
  {
   "metadata": {
    "ExecuteTime": {
     "end_time": "2025-09-09T01:19:22.067072Z",
     "start_time": "2025-09-09T01:19:12.978279Z"
    }
   },
   "cell_type": "code",
   "source": [
    "# 6 자바스크립트 실행 (excute_script())\n",
    "from selenium import webdriver\n",
    "import time\n",
    "from selenium.webdriver.common.keys import Keys\n",
    "\n",
    "driver = webdriver.Chrome()\n",
    "driver.get(\"https://news.google.com\")\n",
    "time.sleep(3)\n",
    "\n",
    "#페이지 맨 아래로 스크롤\n",
    "driver.execute_script(\"window.scrollTo(0, document.body.scrollHeight);\")\n",
    "\n",
    "time.sleep(3)\n",
    "# driver.quit()"
   ],
   "id": "11366c0d80ac87b0",
   "outputs": [],
   "execution_count": 7
  },
  {
   "metadata": {
    "ExecuteTime": {
     "end_time": "2025-09-09T01:19:50.435133Z",
     "start_time": "2025-09-09T01:19:40.370096Z"
    }
   },
   "cell_type": "code",
   "source": [
    "# 7 새창 열기 및 핸들 전환 (window_handles)\n",
    "from selenium import webdriver\n",
    "import time\n",
    "from selenium.webdriver.common.keys import Keys\n",
    "\n",
    "driver = webdriver.Chrome()\n",
    "driver.get(\"https://www.google.com\")\n",
    "time.sleep(3)\n",
    "\n",
    "# 새창 열기,\n",
    "driver.execute_script(\"window.open('https://naver.com');\")\n",
    "time.sleep(3)\n",
    "\n",
    "# 창 핸들 가져오기.\n",
    "windows = driver.window_handles\n",
    "driver.switch_to.window(windows[0])\n",
    "\n",
    "time.sleep(3)\n",
    "# driver.quit()"
   ],
   "id": "687c1f52230e054f",
   "outputs": [
    {
     "ename": "InvalidSessionIdException",
     "evalue": "Message: invalid session id: session deleted as the browser has closed the connection\nfrom disconnected: not connected to DevTools\n  (Session info: chrome=139.0.7258.157); For documentation on this error, please visit: https://www.selenium.dev/documentation/webdriver/troubleshooting/errors#invalidsessionidexception\nStacktrace:\n\tGetHandleVerifier [0x0x7ff6d7473d85+79397]\n\tGetHandleVerifier [0x0x7ff6d7473de0+79488]\n\t(No symbol) [0x0x7ff6d721c0fa]\n\t(No symbol) [0x0x7ff6d720684b]\n\t(No symbol) [0x0x7ff6d7207d2f]\n\t(No symbol) [0x0x7ff6d721cb4f]\n\t(No symbol) [0x0x7ff6d71f402d]\n\t(No symbol) [0x0x7ff6d72acec8]\n\t(No symbol) [0x0x7ff6d729b160]\n\t(No symbol) [0x0x7ff6d72641b1]\n\t(No symbol) [0x0x7ff6d7264f43]\n\tGetHandleVerifier [0x0x7ff6d773e1ed+3005069]\n\tGetHandleVerifier [0x0x7ff6d773831d+2980797]\n\tGetHandleVerifier [0x0x7ff6d7757e0d+3110573]\n\tGetHandleVerifier [0x0x7ff6d748d6de+184190]\n\tGetHandleVerifier [0x0x7ff6d749516f+215567]\n\tGetHandleVerifier [0x0x7ff6d747c974+115220]\n\tGetHandleVerifier [0x0x7ff6d747cb29+115657]\n\tGetHandleVerifier [0x0x7ff6d7463268+11016]\n\tBaseThreadInitThunk [0x0x7ffab5657374+20]\n\tRtlUserThreadStart [0x0x7ffab68dcc91+33]\n",
     "output_type": "error",
     "traceback": [
      "\u001B[31m---------------------------------------------------------------------------\u001B[39m",
      "\u001B[31mInvalidSessionIdException\u001B[39m                 Traceback (most recent call last)",
      "\u001B[36mCell\u001B[39m\u001B[36m \u001B[39m\u001B[32mIn[8]\u001B[39m\u001B[32m, line 15\u001B[39m\n\u001B[32m     12\u001B[39m time.sleep(\u001B[32m3\u001B[39m)\n\u001B[32m     14\u001B[39m \u001B[38;5;66;03m# 창 핸들 가져오기.\u001B[39;00m\n\u001B[32m---> \u001B[39m\u001B[32m15\u001B[39m windows = \u001B[43mdriver\u001B[49m\u001B[43m.\u001B[49m\u001B[43mwindow_handles\u001B[49m\n\u001B[32m     16\u001B[39m driver.switch_to.window(windows[\u001B[32m0\u001B[39m])\n\u001B[32m     18\u001B[39m time.sleep(\u001B[32m3\u001B[39m)\n",
      "\u001B[36mFile \u001B[39m\u001B[32mD:\\Python\\2-Python-Crawling\\.venv\\Lib\\site-packages\\selenium\\webdriver\\remote\\webdriver.py:640\u001B[39m, in \u001B[36mWebDriver.window_handles\u001B[39m\u001B[34m(self)\u001B[39m\n\u001B[32m    632\u001B[39m \u001B[38;5;129m@property\u001B[39m\n\u001B[32m    633\u001B[39m \u001B[38;5;28;01mdef\u001B[39;00m\u001B[38;5;250m \u001B[39m\u001B[34mwindow_handles\u001B[39m(\u001B[38;5;28mself\u001B[39m) -> \u001B[38;5;28mlist\u001B[39m[\u001B[38;5;28mstr\u001B[39m]:\n\u001B[32m    634\u001B[39m \u001B[38;5;250m    \u001B[39m\u001B[33;03m\"\"\"Returns the handles of all windows within the current session.\u001B[39;00m\n\u001B[32m    635\u001B[39m \n\u001B[32m    636\u001B[39m \u001B[33;03m    Example:\u001B[39;00m\n\u001B[32m    637\u001B[39m \u001B[33;03m    --------\u001B[39;00m\n\u001B[32m    638\u001B[39m \u001B[33;03m    >>> print(driver.window_handles)\u001B[39;00m\n\u001B[32m    639\u001B[39m \u001B[33;03m    \"\"\"\u001B[39;00m\n\u001B[32m--> \u001B[39m\u001B[32m640\u001B[39m     \u001B[38;5;28;01mreturn\u001B[39;00m \u001B[38;5;28;43mself\u001B[39;49m\u001B[43m.\u001B[49m\u001B[43mexecute\u001B[49m\u001B[43m(\u001B[49m\u001B[43mCommand\u001B[49m\u001B[43m.\u001B[49m\u001B[43mW3C_GET_WINDOW_HANDLES\u001B[49m\u001B[43m)\u001B[49m[\u001B[33m\"\u001B[39m\u001B[33mvalue\u001B[39m\u001B[33m\"\u001B[39m]\n",
      "\u001B[36mFile \u001B[39m\u001B[32mD:\\Python\\2-Python-Crawling\\.venv\\Lib\\site-packages\\selenium\\webdriver\\remote\\webdriver.py:458\u001B[39m, in \u001B[36mWebDriver.execute\u001B[39m\u001B[34m(self, driver_command, params)\u001B[39m\n\u001B[32m    455\u001B[39m response = cast(RemoteConnection, \u001B[38;5;28mself\u001B[39m.command_executor).execute(driver_command, params)\n\u001B[32m    457\u001B[39m \u001B[38;5;28;01mif\u001B[39;00m response:\n\u001B[32m--> \u001B[39m\u001B[32m458\u001B[39m     \u001B[38;5;28;43mself\u001B[39;49m\u001B[43m.\u001B[49m\u001B[43merror_handler\u001B[49m\u001B[43m.\u001B[49m\u001B[43mcheck_response\u001B[49m\u001B[43m(\u001B[49m\u001B[43mresponse\u001B[49m\u001B[43m)\u001B[49m\n\u001B[32m    459\u001B[39m     response[\u001B[33m\"\u001B[39m\u001B[33mvalue\u001B[39m\u001B[33m\"\u001B[39m] = \u001B[38;5;28mself\u001B[39m._unwrap_value(response.get(\u001B[33m\"\u001B[39m\u001B[33mvalue\u001B[39m\u001B[33m\"\u001B[39m, \u001B[38;5;28;01mNone\u001B[39;00m))\n\u001B[32m    460\u001B[39m     \u001B[38;5;28;01mreturn\u001B[39;00m response\n",
      "\u001B[36mFile \u001B[39m\u001B[32mD:\\Python\\2-Python-Crawling\\.venv\\Lib\\site-packages\\selenium\\webdriver\\remote\\errorhandler.py:232\u001B[39m, in \u001B[36mErrorHandler.check_response\u001B[39m\u001B[34m(self, response)\u001B[39m\n\u001B[32m    230\u001B[39m         alert_text = value[\u001B[33m\"\u001B[39m\u001B[33malert\u001B[39m\u001B[33m\"\u001B[39m].get(\u001B[33m\"\u001B[39m\u001B[33mtext\u001B[39m\u001B[33m\"\u001B[39m)\n\u001B[32m    231\u001B[39m     \u001B[38;5;28;01mraise\u001B[39;00m exception_class(message, screen, stacktrace, alert_text)  \u001B[38;5;66;03m# type: ignore[call-arg]  # mypy is not smart enough here\u001B[39;00m\n\u001B[32m--> \u001B[39m\u001B[32m232\u001B[39m \u001B[38;5;28;01mraise\u001B[39;00m exception_class(message, screen, stacktrace)\n",
      "\u001B[31mInvalidSessionIdException\u001B[39m: Message: invalid session id: session deleted as the browser has closed the connection\nfrom disconnected: not connected to DevTools\n  (Session info: chrome=139.0.7258.157); For documentation on this error, please visit: https://www.selenium.dev/documentation/webdriver/troubleshooting/errors#invalidsessionidexception\nStacktrace:\n\tGetHandleVerifier [0x0x7ff6d7473d85+79397]\n\tGetHandleVerifier [0x0x7ff6d7473de0+79488]\n\t(No symbol) [0x0x7ff6d721c0fa]\n\t(No symbol) [0x0x7ff6d720684b]\n\t(No symbol) [0x0x7ff6d7207d2f]\n\t(No symbol) [0x0x7ff6d721cb4f]\n\t(No symbol) [0x0x7ff6d71f402d]\n\t(No symbol) [0x0x7ff6d72acec8]\n\t(No symbol) [0x0x7ff6d729b160]\n\t(No symbol) [0x0x7ff6d72641b1]\n\t(No symbol) [0x0x7ff6d7264f43]\n\tGetHandleVerifier [0x0x7ff6d773e1ed+3005069]\n\tGetHandleVerifier [0x0x7ff6d773831d+2980797]\n\tGetHandleVerifier [0x0x7ff6d7757e0d+3110573]\n\tGetHandleVerifier [0x0x7ff6d748d6de+184190]\n\tGetHandleVerifier [0x0x7ff6d749516f+215567]\n\tGetHandleVerifier [0x0x7ff6d747c974+115220]\n\tGetHandleVerifier [0x0x7ff6d747cb29+115657]\n\tGetHandleVerifier [0x0x7ff6d7463268+11016]\n\tBaseThreadInitThunk [0x0x7ffab5657374+20]\n\tRtlUserThreadStart [0x0x7ffab68dcc91+33]\n"
     ]
    }
   ],
   "execution_count": 8
  },
  {
   "metadata": {},
   "cell_type": "code",
   "outputs": [],
   "execution_count": null,
   "source": "",
   "id": "7e682e04120b6b6a"
  },
  {
   "metadata": {
    "ExecuteTime": {
     "end_time": "2025-09-09T01:33:31.225919Z",
     "start_time": "2025-09-09T01:33:15.712199Z"
    }
   },
   "cell_type": "code",
   "source": [
    "# 8 프레임 전환( switch_to.frame() )\n",
    "from selenium import webdriver\n",
    "import time\n",
    "from selenium.webdriver.common.keys import Keys\n",
    "\n",
    "driver = webdriver.Chrome()\n",
    "\n",
    "# iframe 테스트 사이트, w3schools\n",
    "driver.get(\"https://www.w3schools.com/html/html_iframe.asp\")\n",
    "time.sleep(3)\n",
    "\n",
    "#페이지 전환, iframe 안의 콘텐츠 로딩.\n",
    "iframe = driver.find_element(\"css selector\", \"iframe[src*='default.asp']\")\n",
    "driver.switch_to.frame(iframe)\n",
    "\n",
    "# 프레임 내 요소 찾기,\n",
    "element = driver.find_element(\"css selector\", \"h1\")\n",
    "print(element.text)\n",
    "time.sleep(3)\n",
    "# driver.quit()"
   ],
   "id": "6babcd1c0cba84d",
   "outputs": [
    {
     "ename": "NoSuchWindowException",
     "evalue": "Message: no such window: target window already closed\nfrom unknown error: web view not found\n  (Session info: chrome=139.0.7258.157)\nStacktrace:\n\tGetHandleVerifier [0x0x7ff6d7473d85+79397]\n\tGetHandleVerifier [0x0x7ff6d7473de0+79488]\n\t(No symbol) [0x0x7ff6d721c0fa]\n\t(No symbol) [0x0x7ff6d71f4601]\n\t(No symbol) [0x0x7ff6d72a257e]\n\t(No symbol) [0x0x7ff6d72c2c72]\n\t(No symbol) [0x0x7ff6d729af73]\n\t(No symbol) [0x0x7ff6d72641b1]\n\t(No symbol) [0x0x7ff6d7264f43]\n\tGetHandleVerifier [0x0x7ff6d773e1ed+3005069]\n\tGetHandleVerifier [0x0x7ff6d773831d+2980797]\n\tGetHandleVerifier [0x0x7ff6d7757e0d+3110573]\n\tGetHandleVerifier [0x0x7ff6d748d6de+184190]\n\tGetHandleVerifier [0x0x7ff6d749516f+215567]\n\tGetHandleVerifier [0x0x7ff6d747c974+115220]\n\tGetHandleVerifier [0x0x7ff6d747cb29+115657]\n\tGetHandleVerifier [0x0x7ff6d7463268+11016]\n\tBaseThreadInitThunk [0x0x7ffab5657374+20]\n\tRtlUserThreadStart [0x0x7ffab68dcc91+33]\n",
     "output_type": "error",
     "traceback": [
      "\u001B[31m---------------------------------------------------------------------------\u001B[39m",
      "\u001B[31mNoSuchWindowException\u001B[39m                     Traceback (most recent call last)",
      "\u001B[36mCell\u001B[39m\u001B[36m \u001B[39m\u001B[32mIn[9]\u001B[39m\u001B[32m, line 13\u001B[39m\n\u001B[32m     10\u001B[39m time.sleep(\u001B[32m3\u001B[39m)\n\u001B[32m     12\u001B[39m \u001B[38;5;66;03m#페이지 전환, iframe 안의 콘텐츠 로딩.\u001B[39;00m\n\u001B[32m---> \u001B[39m\u001B[32m13\u001B[39m iframe = \u001B[43mdriver\u001B[49m\u001B[43m.\u001B[49m\u001B[43mfind_element\u001B[49m\u001B[43m(\u001B[49m\u001B[33;43m\"\u001B[39;49m\u001B[33;43mcss selector\u001B[39;49m\u001B[33;43m\"\u001B[39;49m\u001B[43m,\u001B[49m\u001B[43m \u001B[49m\u001B[33;43m\"\u001B[39;49m\u001B[33;43miframe[src*=\u001B[39;49m\u001B[33;43m'\u001B[39;49m\u001B[33;43mdefault.asp\u001B[39;49m\u001B[33;43m'\u001B[39;49m\u001B[33;43m]\u001B[39;49m\u001B[33;43m\"\u001B[39;49m\u001B[43m)\u001B[49m\n\u001B[32m     14\u001B[39m driver.switch_to.frame(iframe)\n\u001B[32m     16\u001B[39m \u001B[38;5;66;03m# 프레임 내 요소 찾기,\u001B[39;00m\n",
      "\u001B[36mFile \u001B[39m\u001B[32mD:\\Python\\2-Python-Crawling\\.venv\\Lib\\site-packages\\selenium\\webdriver\\remote\\webdriver.py:926\u001B[39m, in \u001B[36mWebDriver.find_element\u001B[39m\u001B[34m(self, by, value)\u001B[39m\n\u001B[32m    923\u001B[39m         \u001B[38;5;28;01mraise\u001B[39;00m NoSuchElementException(\u001B[33mf\u001B[39m\u001B[33m\"\u001B[39m\u001B[33mCannot locate relative element with: \u001B[39m\u001B[38;5;132;01m{\u001B[39;00mby.root\u001B[38;5;132;01m}\u001B[39;00m\u001B[33m\"\u001B[39m)\n\u001B[32m    924\u001B[39m     \u001B[38;5;28;01mreturn\u001B[39;00m elements[\u001B[32m0\u001B[39m]\n\u001B[32m--> \u001B[39m\u001B[32m926\u001B[39m \u001B[38;5;28;01mreturn\u001B[39;00m \u001B[38;5;28;43mself\u001B[39;49m\u001B[43m.\u001B[49m\u001B[43mexecute\u001B[49m\u001B[43m(\u001B[49m\u001B[43mCommand\u001B[49m\u001B[43m.\u001B[49m\u001B[43mFIND_ELEMENT\u001B[49m\u001B[43m,\u001B[49m\u001B[43m \u001B[49m\u001B[43m{\u001B[49m\u001B[33;43m\"\u001B[39;49m\u001B[33;43musing\u001B[39;49m\u001B[33;43m\"\u001B[39;49m\u001B[43m:\u001B[49m\u001B[43m \u001B[49m\u001B[43mby\u001B[49m\u001B[43m,\u001B[49m\u001B[43m \u001B[49m\u001B[33;43m\"\u001B[39;49m\u001B[33;43mvalue\u001B[39;49m\u001B[33;43m\"\u001B[39;49m\u001B[43m:\u001B[49m\u001B[43m \u001B[49m\u001B[43mvalue\u001B[49m\u001B[43m}\u001B[49m\u001B[43m)\u001B[49m[\u001B[33m\"\u001B[39m\u001B[33mvalue\u001B[39m\u001B[33m\"\u001B[39m]\n",
      "\u001B[36mFile \u001B[39m\u001B[32mD:\\Python\\2-Python-Crawling\\.venv\\Lib\\site-packages\\selenium\\webdriver\\remote\\webdriver.py:458\u001B[39m, in \u001B[36mWebDriver.execute\u001B[39m\u001B[34m(self, driver_command, params)\u001B[39m\n\u001B[32m    455\u001B[39m response = cast(RemoteConnection, \u001B[38;5;28mself\u001B[39m.command_executor).execute(driver_command, params)\n\u001B[32m    457\u001B[39m \u001B[38;5;28;01mif\u001B[39;00m response:\n\u001B[32m--> \u001B[39m\u001B[32m458\u001B[39m     \u001B[38;5;28;43mself\u001B[39;49m\u001B[43m.\u001B[49m\u001B[43merror_handler\u001B[49m\u001B[43m.\u001B[49m\u001B[43mcheck_response\u001B[49m\u001B[43m(\u001B[49m\u001B[43mresponse\u001B[49m\u001B[43m)\u001B[49m\n\u001B[32m    459\u001B[39m     response[\u001B[33m\"\u001B[39m\u001B[33mvalue\u001B[39m\u001B[33m\"\u001B[39m] = \u001B[38;5;28mself\u001B[39m._unwrap_value(response.get(\u001B[33m\"\u001B[39m\u001B[33mvalue\u001B[39m\u001B[33m\"\u001B[39m, \u001B[38;5;28;01mNone\u001B[39;00m))\n\u001B[32m    460\u001B[39m     \u001B[38;5;28;01mreturn\u001B[39;00m response\n",
      "\u001B[36mFile \u001B[39m\u001B[32mD:\\Python\\2-Python-Crawling\\.venv\\Lib\\site-packages\\selenium\\webdriver\\remote\\errorhandler.py:232\u001B[39m, in \u001B[36mErrorHandler.check_response\u001B[39m\u001B[34m(self, response)\u001B[39m\n\u001B[32m    230\u001B[39m         alert_text = value[\u001B[33m\"\u001B[39m\u001B[33malert\u001B[39m\u001B[33m\"\u001B[39m].get(\u001B[33m\"\u001B[39m\u001B[33mtext\u001B[39m\u001B[33m\"\u001B[39m)\n\u001B[32m    231\u001B[39m     \u001B[38;5;28;01mraise\u001B[39;00m exception_class(message, screen, stacktrace, alert_text)  \u001B[38;5;66;03m# type: ignore[call-arg]  # mypy is not smart enough here\u001B[39;00m\n\u001B[32m--> \u001B[39m\u001B[32m232\u001B[39m \u001B[38;5;28;01mraise\u001B[39;00m exception_class(message, screen, stacktrace)\n",
      "\u001B[31mNoSuchWindowException\u001B[39m: Message: no such window: target window already closed\nfrom unknown error: web view not found\n  (Session info: chrome=139.0.7258.157)\nStacktrace:\n\tGetHandleVerifier [0x0x7ff6d7473d85+79397]\n\tGetHandleVerifier [0x0x7ff6d7473de0+79488]\n\t(No symbol) [0x0x7ff6d721c0fa]\n\t(No symbol) [0x0x7ff6d71f4601]\n\t(No symbol) [0x0x7ff6d72a257e]\n\t(No symbol) [0x0x7ff6d72c2c72]\n\t(No symbol) [0x0x7ff6d729af73]\n\t(No symbol) [0x0x7ff6d72641b1]\n\t(No symbol) [0x0x7ff6d7264f43]\n\tGetHandleVerifier [0x0x7ff6d773e1ed+3005069]\n\tGetHandleVerifier [0x0x7ff6d773831d+2980797]\n\tGetHandleVerifier [0x0x7ff6d7757e0d+3110573]\n\tGetHandleVerifier [0x0x7ff6d748d6de+184190]\n\tGetHandleVerifier [0x0x7ff6d749516f+215567]\n\tGetHandleVerifier [0x0x7ff6d747c974+115220]\n\tGetHandleVerifier [0x0x7ff6d747cb29+115657]\n\tGetHandleVerifier [0x0x7ff6d7463268+11016]\n\tBaseThreadInitThunk [0x0x7ffab5657374+20]\n\tRtlUserThreadStart [0x0x7ffab68dcc91+33]\n"
     ]
    }
   ],
   "execution_count": 9
  },
  {
   "metadata": {
    "ExecuteTime": {
     "end_time": "2025-09-09T01:33:48.424745Z",
     "start_time": "2025-09-09T01:33:36.864197Z"
    }
   },
   "cell_type": "code",
   "source": [
    "# 9 쿠키 가져오기 및 설정, (get_cookies, add_cookie)\n",
    "from selenium import webdriver\n",
    "import time\n",
    "from selenium.webdriver.common.keys import Keys\n",
    "\n",
    "driver = webdriver.Chrome()\n",
    "\n",
    "# iframe 테스트 사이트, w3schools\n",
    "driver.get(\"https://www.google.com\")\n",
    "time.sleep(3)\n",
    "\n",
    "# 기존 쿠키 출력\n",
    "# print(\"기존 쿠키:\")\n",
    "# print(driver.get_cookies())\n",
    "\n",
    "# 쿠키 추가,\n",
    "driver.add_cookie({\"name\":\"lsy_lunch\", \"value\":\"신라면\"})\n",
    "\n",
    "# 페이지 새로고침\n",
    "driver.refresh()\n",
    "time.sleep(3)\n",
    "\n",
    "#추가된 쿠키 확인.\n",
    "print(\"추가된 쿠키 확인 \")\n",
    "cookies = driver.get_cookies()\n",
    "print(cookies)\n",
    "\n",
    "# 특정 쿠키 값 만 출력 해보기.\n",
    "for cookie in cookies:\n",
    "    if cookie[\"name\"] == \"lsy_lunch\":\n",
    "        print(f\"추가된 값 : {cookie['value']}\")\n",
    "time.sleep(3)\n",
    "# driver.quit()"
   ],
   "id": "bb24bb052ae3e34d",
   "outputs": [
    {
     "name": "stdout",
     "output_type": "stream",
     "text": [
      "추가된 쿠키 확인 \n",
      "[{'domain': 'www.google.com', 'httpOnly': False, 'name': 'lsy_lunch', 'path': '/', 'sameSite': 'Lax', 'secure': True, 'value': '신라면'}, {'domain': 'www.google.com', 'expiry': 1757403222, 'httpOnly': False, 'name': 'UULE', 'path': '/', 'sameSite': 'Lax', 'secure': True, 'value': 'a+cm9sZTogMQpwcm9kdWNlcjogMTIKdGltZXN0YW1wOiAxNzU3MzgxNjIyMzY1MDAwCmxhdGxuZyB7CiAgbGF0aXR1ZGVfZTc6IDM1MTUzNTEwNAogIGxvbmdpdHVkZV9lNzogMTI5MDYwMDQ0OAp9CnJhZGl1czogNTgzNjIzLjkyMjM3MDM4NzUKcHJvdmVuYW5jZTogNgo='}, {'domain': '.google.com', 'expiry': 1773192818, 'httpOnly': True, 'name': 'NID', 'path': '/', 'sameSite': 'None', 'secure': True, 'value': '525=R-6v6nxMBzh5pU3Z8qoiK2iFYRQJ7oo96CeFSjMo8ol9DXijRlFLaJPTkJpNVgXtmW-Hh_G7iTIpMCQXMFmbGtNBr2QolH8QdzuKnh59h_FLUmbaW5DACLwkcUlmjKXwmsXRnICbj_u0EfDlEMPtABmfQi5kme9Q45uga4xDxW_qqLo-2AkEy2NxX7YBia00kG1ALb7Y-u0MNsbmnbLjd2GVT3hzsQ'}, {'domain': '.google.com', 'expiry': 1772933618, 'httpOnly': True, 'name': 'AEC', 'path': '/', 'sameSite': 'Lax', 'secure': True, 'value': 'AVh_V2holeznGDX1rIbD5-oV7SH2IwtjQMRQ0gyGCjWZmVb2XBRzct24JQ'}]\n",
      "추가된 값 : 신라면\n"
     ]
    }
   ],
   "execution_count": 10
  },
  {
   "metadata": {
    "ExecuteTime": {
     "end_time": "2025-09-09T01:34:01.818945Z",
     "start_time": "2025-09-09T01:33:54.760788Z"
    }
   },
   "cell_type": "code",
   "source": [
    "# 10 스크린 샷 저장 (save_screenshot())\n",
    "from selenium import webdriver\n",
    "import time\n",
    "from selenium.webdriver.common.keys import Keys\n",
    "\n",
    "driver = webdriver.Chrome()\n",
    "driver.get(\"https://www.google.com\")\n",
    "time.sleep(3)\n",
    "\n",
    "# 스크린샷 저장,\n",
    "driver.save_screenshot(\"test_screenshot.png\")\n",
    "# driver.quit()"
   ],
   "id": "4238cae1dae3ff7f",
   "outputs": [
    {
     "data": {
      "text/plain": [
       "True"
      ]
     },
     "execution_count": 11,
     "metadata": {},
     "output_type": "execute_result"
    }
   ],
   "execution_count": 11
  },
  {
   "metadata": {
    "ExecuteTime": {
     "end_time": "2025-09-09T01:58:16.471044Z",
     "start_time": "2025-09-09T01:57:53.581623Z"
    }
   },
   "cell_type": "code",
   "source": [
    "# 11 특정 요소가 로드될 때까지 대기 (WebDriverWait)\n",
    "from selenium import webdriver\n",
    "import time\n",
    "from selenium.webdriver.common.keys import Keys\n",
    "from selenium.webdriver.common.by import By\n",
    "from selenium.webdriver.support.ui import WebDriverWait\n",
    "from selenium.webdriver.support import expected_conditions as EC\n",
    "\n",
    "driver = webdriver.Chrome()\n",
    "driver.get(\"https://www.google.com\")\n",
    "\n",
    "# 특정 요소가 나타날 때까지 10초 대기.\n",
    "search_box = WebDriverWait(driver, 10).until(\n",
    "    EC.presence_of_element_located((By.NAME, \"q\"))\n",
    ")\n",
    "\n",
    "search_box.send_keys(\"selenium 대기 테스트 \")\n",
    "\n",
    "time.sleep(3)\n",
    "driver.quit()"
   ],
   "id": "91101ff3b288a93",
   "outputs": [],
   "execution_count": 16
  },
  {
   "metadata": {
    "ExecuteTime": {
     "end_time": "2025-09-09T01:41:36.837976Z",
     "start_time": "2025-09-09T01:41:31.608463Z"
    }
   },
   "cell_type": "code",
   "source": [
    "# 12  마우스 이벤트 조작 (ActionChains)\n",
    "from selenium import webdriver\n",
    "import time\n",
    "from selenium.webdriver.common.keys import Keys\n",
    "from selenium.webdriver.common.by import By\n",
    "from selenium.webdriver.support.ui import WebDriverWait\n",
    "from selenium.webdriver.support import expected_conditions as EC\n",
    "from selenium.webdriver.common.action_chains import ActionChains\n",
    "\n",
    "driver = webdriver.Chrome()\n",
    "driver.get(\"https://www.google.com\")\n",
    "\n",
    "# 요소 찾기,\n",
    "element = driver.find_element(\"link text\", \"Gmail\")\n",
    "\n",
    "# 마우스 오버\n",
    "actions = ActionChains(driver)\n",
    "actions.move_to_element(element).perform()\n",
    "\n",
    "time.sleep(3)\n",
    "# driver.quit()"
   ],
   "id": "743d57356327355f",
   "outputs": [],
   "execution_count": 13
  },
  {
   "metadata": {
    "ExecuteTime": {
     "end_time": "2025-09-09T01:42:08.500396Z",
     "start_time": "2025-09-09T01:41:58.400699Z"
    }
   },
   "cell_type": "code",
   "source": [
    "# 13 입력값 삭제,\n",
    "from selenium import webdriver\n",
    "import time\n",
    "from selenium.webdriver.common.keys import Keys\n",
    "from selenium.webdriver.common.by import By\n",
    "from selenium.webdriver.support.ui import WebDriverWait\n",
    "from selenium.webdriver.support import expected_conditions as EC\n",
    "from selenium.webdriver.common.action_chains import ActionChains\n",
    "\n",
    "driver = webdriver.Chrome()\n",
    "driver.get(\"https://www.google.com\")\n",
    "\n",
    "search_box = driver.find_element(\"name\", \"q\")\n",
    "search_box.send_keys(\"selenium 입력 테스트 \")\n",
    "\n",
    "time.sleep(3)\n",
    "\n",
    "search_box.clear()\n",
    "\n",
    "time.sleep(3)\n",
    "driver.quit()"
   ],
   "id": "558ed5b7626d4b62",
   "outputs": [],
   "execution_count": 14
  },
  {
   "metadata": {},
   "cell_type": "code",
   "outputs": [],
   "execution_count": null,
   "source": [
    "# 14 브라우저 창 크기 조절, (set_winodw_size())\n",
    "from selenium import webdriver\n",
    "import time\n",
    "from selenium.webdriver.common.keys import Keys\n",
    "from selenium.webdriver.common.by import By\n",
    "from selenium.webdriver.support.ui import WebDriverWait\n",
    "from selenium.webdriver.support import expected_conditions as EC\n",
    "from selenium.webdriver.common.action_chains import ActionChains\n",
    "\n",
    "driver = webdriver.Chrome()\n",
    "driver.get(\"https://www.google.com\")\n",
    "time.sleep(3)\n",
    "\n",
    "# 브라우저 크기 조절.\n",
    "driver.set_window_size(1500, 768)\n",
    "\n",
    "time.sleep(3)\n",
    "driver.quit()"
   ],
   "id": "38e831325641c7e1"
  },
  {
   "metadata": {
    "ExecuteTime": {
     "end_time": "2025-09-09T02:05:45.964495Z",
     "start_time": "2025-09-09T02:05:33.914450Z"
    }
   },
   "cell_type": "code",
   "source": [
    "# 15 특정 요소 로드 때 까지 대기 후, 클릭 해보기.\n",
    "\n",
    "from selenium import webdriver\n",
    "import time\n",
    "from selenium.webdriver.common.keys import Keys\n",
    "from selenium.webdriver.common.by import By\n",
    "from selenium.webdriver.support.ui import WebDriverWait\n",
    "from selenium.webdriver.support import expected_conditions as EC\n",
    "from selenium.webdriver.common.action_chains import ActionChains\n",
    "\n",
    "driver = webdriver.Chrome()\n",
    "driver.get(\"https://the-internet.herokuapp.com/dynamic_loading/1\")\n",
    "time.sleep(3)\n",
    "\n",
    "# start 버튼이 클릭 가능할 때까지 10초 대기 후 클릭.\n",
    "start_button = WebDriverWait(driver, 10).until(\n",
    "    EC.element_to_be_clickable((By.CSS_SELECTOR, \"#start button\"))\n",
    ")\n",
    "\n",
    "start_button.click()\n",
    "\n",
    "#로딩이 끝나고 결과 텍스트가 보일 때까지 대기.\n",
    "finish_element = WebDriverWait(driver, 10).until(\n",
    "    EC.presence_of_element_located((By.CSS_SELECTOR, \"#finish\"))\n",
    ")\n",
    "print(f\"10초후 문자열 출력: {finish_element}\")\n",
    "time.sleep(3)\n",
    "driver.quit()"
   ],
   "id": "b9b9194a0e8c8ad",
   "outputs": [
    {
     "name": "stdout",
     "output_type": "stream",
     "text": [
      "10초후 문자열 출력: <selenium.webdriver.remote.webelement.WebElement (session=\"bad9f7db883b1a0969b3be804d70321e\", element=\"f.000E82F06A5561EA421FB59057A785A6.d.A7D8089F70CD2C0BBEC20C85806E3B45.e.7\")>\n"
     ]
    }
   ],
   "execution_count": 17
  },
  {
   "metadata": {},
   "cell_type": "code",
   "outputs": [],
   "execution_count": null,
   "source": [
    "#16 드래그 앤 드롭 (drag_and_drop())\n",
    "\n",
    "from selenium import webdriver\n",
    "import time\n",
    "from selenium.webdriver.common.keys import Keys\n",
    "from selenium.webdriver.common.by import By\n",
    "from selenium.webdriver.support.ui import WebDriverWait\n",
    "from selenium.webdriver.support import expected_conditions as EC\n",
    "from selenium.webdriver.common.action_chains import ActionChains\n",
    "\n",
    "driver = webdriver.Chrome()\n",
    "driver.get(\"https://jqueryui.com/droppable/\")\n",
    "time.sleep(3)\n",
    "\n",
    "#프레임 전환\n",
    "driver.switch_to.frame(0)\n",
    "\n",
    "#요소찾기.\n",
    "source = driver.find_element(\"id\", \"draggable\")\n",
    "target = driver.find_element(\"id\", \"droppable\")\n",
    "\n",
    "# 드래그 앤 드롭 실행.\n",
    "actions = ActionChains(driver)\n",
    "actions.drag_and_drop(source, target).perform()\n",
    "\n",
    "time.sleep(3)\n",
    "driver.quit()"
   ],
   "id": "fb2756bbc317b84b"
  },
  {
   "metadata": {},
   "cell_type": "code",
   "outputs": [],
   "execution_count": null,
   "source": [
    "# 17 웹 페이지 소스 코드 가져오기.\n",
    "\n",
    "from selenium import webdriver\n",
    "import time\n",
    "from selenium.webdriver.common.keys import Keys\n",
    "from selenium.webdriver.common.by import By\n",
    "from selenium.webdriver.support.ui import WebDriverWait\n",
    "from selenium.webdriver.support import expected_conditions as EC\n",
    "from selenium.webdriver.common.action_chains import ActionChains\n",
    "\n",
    "driver = webdriver.Chrome()\n",
    "driver.get(\"https://www.goolge.com\")\n",
    "time.sleep(3)\n",
    "\n",
    "html = driver.page_source\n",
    "print(html[:500])\n",
    "driver.quit()"
   ],
   "id": "c496f949b864f803"
  },
  {
   "metadata": {},
   "cell_type": "code",
   "outputs": [],
   "execution_count": null,
   "source": [
    "# 18 파일 업로드 자동화,\n",
    "from selenium import webdriver\n",
    "import time\n",
    "from selenium.webdriver.common.keys import Keys\n",
    "from selenium.webdriver.common.by import By\n",
    "from selenium.webdriver.support.ui import WebDriverWait\n",
    "from selenium.webdriver.support import expected_conditions as EC\n",
    "from selenium.webdriver.common.action_chains import ActionChains\n",
    "\n",
    "driver = webdriver.Chrome()\n",
    "driver.get(\"https://tus.io/demo.html\")\n",
    "time.sleep(3)\n",
    "\n",
    "#파일 업로드 요소 찾기, xpath\n",
    "# 경로 : //*[@id=\"P0-0\"]\n",
    "# <input id=\"P0-0\" type=\"file\">\n",
    "upload = driver.find_element(\"xpath\", \"//input[@type='file']\")\n",
    "# 각자 업로드 테스트 할 파일 경로 지정 해주기.\n",
    "upload.send_keys(r\"D:\\Python-workspace-250901\\2-Python-crawling\\ch3-Dynmic-Selenium-Crawling-Test\\test_screenshot.png\")\n",
    "time.sleep(5)\n",
    "# driver.quit()"
   ],
   "id": "5e28ccca52e6551c"
  }
 ],
 "metadata": {
  "kernelspec": {
   "display_name": "Python 3",
   "language": "python",
   "name": "python3"
  },
  "language_info": {
   "codemirror_mode": {
    "name": "ipython",
    "version": 2
   },
   "file_extension": ".py",
   "mimetype": "text/x-python",
   "name": "python",
   "nbconvert_exporter": "python",
   "pygments_lexer": "ipython2",
   "version": "2.7.6"
  }
 },
 "nbformat": 4,
 "nbformat_minor": 5
}
