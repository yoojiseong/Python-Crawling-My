{
 "cells": [
  {
   "cell_type": "code",
   "id": "initial_id",
   "metadata": {
    "collapsed": true,
    "ExecuteTime": {
     "end_time": "2025-09-08T07:06:01.071758Z",
     "start_time": "2025-09-08T07:06:00.955986Z"
    }
   },
   "source": [
    "import bs4\n",
    "import urllib.request\n",
    "nateUrl = \"https://www.nate.com\"\n",
    "htmlObj = urllib.request.urlopen(nateUrl)\n",
    "\n",
    "webPage = htmlObj.read()\n",
    "\n",
    "bsObject = bs4.BeautifulSoup(webPage, \"html.parser\")\n",
    "# print(bsObject)\n",
    "\n",
    "#div -> id속성 : NateBi\n",
    "tag = bsObject.find(\"div\", {\"id\":\"NateBi\"})\n",
    "print(tag)"
   ],
   "outputs": [
    {
     "name": "stdout",
     "output_type": "stream",
     "text": [
      "<div class=\"area_bi\" id=\"NateBi\" role=\"banner\">\n",
      "<h1 class=\"bi\" title=\"네이트\"><a href=\"//www.nate.com/?f=bi\" onmousedown=\"nc('NBI01');\">네이트</a></h1>\n",
      "</div>\n"
     ]
    }
   ],
   "execution_count": 2
  },
  {
   "metadata": {
    "ExecuteTime": {
     "end_time": "2025-09-08T07:11:00.629975Z",
     "start_time": "2025-09-08T07:11:00.626346Z"
    }
   },
   "cell_type": "code",
   "source": [
    "a_tag = tag.find('a')\n",
    "print(a_tag)"
   ],
   "id": "b3fd553cd4d7a8a",
   "outputs": [
    {
     "name": "stdout",
     "output_type": "stream",
     "text": [
      "<a href=\"//www.nate.com/?f=bi\" onmousedown=\"nc('NBI01');\">네이트</a>\n"
     ]
    }
   ],
   "execution_count": 3
  },
  {
   "metadata": {
    "ExecuteTime": {
     "end_time": "2025-09-08T07:12:04.651732Z",
     "start_time": "2025-09-08T07:12:04.648827Z"
    }
   },
   "cell_type": "code",
   "source": [
    "a_tag_href = a_tag['href']\n",
    "print(a_tag_href)"
   ],
   "id": "104e76710aab8b8a",
   "outputs": [
    {
     "name": "stdout",
     "output_type": "stream",
     "text": [
      "//www.nate.com/?f=bi\n"
     ]
    }
   ],
   "execution_count": 5
  },
  {
   "metadata": {
    "ExecuteTime": {
     "end_time": "2025-09-08T07:12:27.569633Z",
     "start_time": "2025-09-08T07:12:27.565602Z"
    }
   },
   "cell_type": "code",
   "source": [
    "a_tag_text = a_tag.text\n",
    "print(a_tag_text)"
   ],
   "id": "2ed92b904c06be65",
   "outputs": [
    {
     "name": "stdout",
     "output_type": "stream",
     "text": [
      "네이트\n"
     ]
    }
   ],
   "execution_count": 6
  }
 ],
 "metadata": {
  "kernelspec": {
   "display_name": "Python 3",
   "language": "python",
   "name": "python3"
  },
  "language_info": {
   "codemirror_mode": {
    "name": "ipython",
    "version": 2
   },
   "file_extension": ".py",
   "mimetype": "text/x-python",
   "name": "python",
   "nbconvert_exporter": "python",
   "pygments_lexer": "ipython2",
   "version": "2.7.6"
  }
 },
 "nbformat": 4,
 "nbformat_minor": 5
}
