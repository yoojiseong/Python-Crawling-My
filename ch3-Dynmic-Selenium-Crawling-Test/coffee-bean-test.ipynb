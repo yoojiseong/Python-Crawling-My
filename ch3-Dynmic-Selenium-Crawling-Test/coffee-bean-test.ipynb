{
 "cells": [
  {
   "cell_type": "code",
   "id": "initial_id",
   "metadata": {
    "collapsed": true,
    "ExecuteTime": {
     "end_time": "2025-09-09T02:43:33.411248Z",
     "start_time": "2025-09-09T02:43:33.408201Z"
    }
   },
   "source": [
    "# https://www.coffeebeankorea.com/robots.txt\n",
    "# User-agent: *\n",
    "# Allow: /\n",
    "# 수집 모두 허용 확인.\n",
    "\n",
    "# 각 매장의 정보를 가져와서,\n",
    "# 파일 기반 저장 :csv, json\n",
    "# 데이터베이스 저장, 마리아 디비\n",
    "\n",
    "# 커피빈 사이트 -> 매장 찾기\n",
    "# https://www.coffeebeankorea.com/store/store.asp\n"
   ],
   "outputs": [],
   "execution_count": 20
  },
  {
   "metadata": {
    "ExecuteTime": {
     "end_time": "2025-09-09T02:43:33.421924Z",
     "start_time": "2025-09-09T02:43:33.418757Z"
    }
   },
   "cell_type": "code",
   "source": [
    "# 해당 사이트, 매장 찾기\n",
    "# 자세히 보기 커서를 가까이 가져가면 -> 자바스크립트 함수 명 확인\n",
    "# 예) storePop2('33') 이런 형식의 함수를 호출\n",
    "# 코엑스웨스틴서울점262m -> 142 -> storePop2('142')\n",
    "\n",
    "# 각 요소를 분석\n",
    "# 1. 매장명 가져오기.\n",
    "# div 태그, class=\"store_txt\" -> 하위에 h2 태그로\n",
    "\n",
    "# 2. 주소 가져오기. 3번째요소 -> 인덱스 :2\n",
    "# div 태그, class=\"store_txt\" -> 하위에 테이블 태그, class=\"store_table\" ->\n",
    "# tbody 태그 -> tr 태그 -> td 태그\n",
    "\n",
    "# 3. 전화번호 가져오기. 4번째요소 -> 인덱스 :3\n",
    "# div 태그, class=\"store_txt\" -> 하위에 테이블 태그, class=\"store_table\" ->\n",
    "# tbody 태그 -> tr 태그 -> td 태그"
   ],
   "id": "ff7093882520fbc0",
   "outputs": [],
   "execution_count": 21
  },
  {
   "metadata": {
    "ExecuteTime": {
     "end_time": "2025-09-09T02:50:26.939369Z",
     "start_time": "2025-09-09T02:50:26.406846Z"
    }
   },
   "cell_type": "code",
   "source": [
    "import time\n",
    "import json\n",
    "import pandas as pd\n",
    "import pymysql\n",
    "from bs4 import BeautifulSoup\n",
    "from selenium import webdriver\n",
    "\n",
    "def CoffeeBean_store():\n",
    "    CoffeeBean_URL = \"https://www.coffeebeankorea.com/store/store.asp\"\n",
    "    wd = webdriver.Chrome()\n",
    "\n",
    "    result = []\n",
    "\n",
    "    for i in range(1, 10):  # 마지막 매장번호(최신 매장까지 크롤링),1~395\n",
    "        wd.get(CoffeeBean_URL)\n",
    "        time.sleep(1)  # 웹페이지 연결 대기\n",
    "\n",
    "        try:\n",
    "            wd.execute_script(f\"storePop2({i})\")\n",
    "            time.sleep(3)  # 스크립트 실행 대기\n",
    "            html = wd.page_source\n",
    "            soupCB = BeautifulSoup(html, 'html.parser')\n",
    "\n",
    "            # 매장명 가져오기\n",
    "            # 1. 매장명 가져오기.\n",
    "            # div 태그, class=\"store_txt\" -> 하위에 h2 태그로\n",
    "            store_name_h2 = soupCB.select(\"div.store_txt > h2\")\n",
    "            store_name = store_name_h2[0].string.strip() if store_name_h2 else \"정보 없음\"\n",
    "\n",
    "            #유효성 체크 걸기, 즉 매장 이름 -> 정보 없음 건너뛰기\n",
    "            if store_name == \"정보 없음\":\n",
    "                print(f\"[{i}] 매장 정보가 존재하지 않아 건너뜁니다.\")\n",
    "                continue\n",
    "\n",
    "            # 주소 및 전화번호 가져오기\n",
    "            # 2. 주소 가져오기. 3번째요소 -> 인덱스 :2\n",
    "            # div 태그, class=\"store_txt\" -> 하위에 테이블 태그, class=\"store_table\" ->\n",
    "            # tbody 태그 -> tr 태그 -> td 태그\n",
    "\n",
    "            # 3. 전화번호 가져오기. 4번째요소 -> 인덱스 :3\n",
    "            # div 태그, class=\"store_txt\" -> 하위에 테이블 태그, class=\"store_table\" ->\n",
    "            # tbody 태그 -> tr 태그 -> td 태그\n",
    "            store_info = soupCB.select(\"div.store_txt > table.store_table > tbody > tr > td\")\n",
    "            store_address = store_info[2].text.strip() if len(store_info) > 2 else \"주소 없음\"\n",
    "            store_phone = store_info[3].text.strip() if len(store_info) > 3 else \"전화번호 없음\"\n",
    "\n",
    "            print(f\"📍 매장명: {store_name} | 📍 주소: {store_address} | 📞 전화번호: {store_phone}\")\n",
    "\n",
    "            result.append({\"index\": i,\"store\": store_name, \"address\": store_address, \"phone\": store_phone})\n",
    "\n",
    "        except Exception as e:\n",
    "            print(f\"❌ 오류 발생: {e}\")\n",
    "            continue\n",
    "\n",
    "    wd.quit()\n",
    "    return result"
   ],
   "id": "afb3e01b6e8ff045",
   "outputs": [],
   "execution_count": 1
  },
  {
   "metadata": {
    "ExecuteTime": {
     "end_time": "2025-09-09T02:43:33.452583Z",
     "start_time": "2025-09-09T02:43:33.445556Z"
    }
   },
   "cell_type": "code",
   "source": [
    "# JSON 파일 저장 ---\n",
    "def save_to_json(data):\n",
    "    json_file = \"CoffeeBean.json\"\n",
    "    with open(json_file, \"w\", encoding=\"utf-8\") as f:\n",
    "        json.dump(data, f, ensure_ascii=False, indent=4)\n",
    "    print(f\"✅ JSON 파일 저장 완료: {json_file}\")\n",
    "\n",
    "# MariaDB(MySQL) 저장 ---\n",
    "def save_to_mariadb(data):\n",
    "    db = pymysql.connect(\n",
    "        host=\"localhost\",\n",
    "        user=\"webuser\",  # 변경 필요\n",
    "        password=\"webuser\",  # 변경 필요\n",
    "        database=\"webdb\"\n",
    "    )\n",
    "    cursor = db.cursor()\n",
    "\n",
    "    # 테이블 생성 (처음 실행 시 필요)\n",
    "    create_table_query = \"\"\"\n",
    "    CREATE TABLE IF NOT EXISTS coffeebean_stores (\n",
    "        id INT AUTO_INCREMENT PRIMARY KEY,\n",
    "        store VARCHAR(255) NOT NULL,\n",
    "        address TEXT NOT NULL,\n",
    "        phone VARCHAR(50)\n",
    "    )\n",
    "    \"\"\"\n",
    "    cursor.execute(create_table_query)\n",
    "\n",
    "    # 데이터 저장 쿼리\n",
    "    insert_query = \"\"\"\n",
    "    INSERT INTO coffeebean_stores (store, address, phone)\n",
    "    VALUES (%s, %s, %s)\n",
    "    \"\"\"\n",
    "\n",
    "    try:\n",
    "        cursor.executemany(insert_query, [(d[\"store\"], d[\"address\"], d[\"phone\"]) for d in data])\n",
    "        db.commit()\n",
    "        print(f\"✅ {len(data)}개의 매장 데이터가 MariaDB에 저장되었습니다.\")\n",
    "    except Exception as e:\n",
    "        db.rollback()\n",
    "        print(f\"❌ 데이터 저장 중 오류 발생: {e}\")\n",
    "\n",
    "    cursor.close()\n",
    "    db.close()"
   ],
   "id": "43251cc57944c670",
   "outputs": [],
   "execution_count": 23
  },
  {
   "metadata": {
    "ExecuteTime": {
     "end_time": "2025-09-09T02:44:26.759140Z",
     "start_time": "2025-09-09T02:43:33.459309Z"
    }
   },
   "cell_type": "code",
   "source": [
    "def main():\n",
    "    print(\"🚀 CoffeeBean 매장 정보 크롤링 시작...\")\n",
    "    store_data = CoffeeBean_store()\n",
    "\n",
    "    print(f\"store_data 확인 : {store_data} \")\n",
    "    # 파일 기반 저장,\n",
    "    print(\"\\n💾 JSON 파일 저장 중...\")\n",
    "    save_to_json(store_data)\n",
    "    # 데이터베이스 저장.\n",
    "    print(\"\\n📂 MariaDB 저장 중...\")\n",
    "    save_to_mariadb(store_data)\n",
    "\n",
    "    print(\"\\n🎉 모든 작업 완료!\")\n",
    "\n",
    "if __name__ == '__main__':\n",
    "    main()"
   ],
   "id": "f60c5bb5b486804d",
   "outputs": [
    {
     "name": "stdout",
     "output_type": "stream",
     "text": [
      "🚀 CoffeeBean 매장 정보 크롤링 시작...\n",
      "[1] 매장 정보가 존재하지 않아 건너뜁니다.\n",
      "[2] 매장 정보가 존재하지 않아 건너뜁니다.\n",
      "📍 매장명: 차병원점 | 📍 주소: 서울시 강남구 논현로 566 강남차병원1층 | 📞 전화번호: 02-538-7615\n",
      "[4] 매장 정보가 존재하지 않아 건너뜁니다.\n",
      "[5] 매장 정보가 존재하지 않아 건너뜁니다.\n",
      "📍 매장명: 강남대로점 | 📍 주소: 서울시 서초구 강남대로 369 1층 | 📞 전화번호: 02-588-5778\n",
      "[7] 매장 정보가 존재하지 않아 건너뜁니다.\n",
      "[8] 매장 정보가 존재하지 않아 건너뜁니다.\n",
      "[9] 매장 정보가 존재하지 않아 건너뜁니다.\n",
      "store_data 확인 : [{'store': '차병원점', 'address': '서울시 강남구 논현로 566 강남차병원1층', 'phone': '02-538-7615'}, {'store': '강남대로점', 'address': '서울시 서초구 강남대로 369 1층', 'phone': '02-588-5778'}] \n",
      "\n",
      "💾 JSON 파일 저장 중...\n",
      "✅ JSON 파일 저장 완료: CoffeeBean.json\n",
      "\n",
      "📂 MariaDB 저장 중...\n",
      "✅ 2개의 매장 데이터가 MariaDB에 저장되었습니다.\n",
      "\n",
      "🎉 모든 작업 완료!\n"
     ]
    }
   ],
   "execution_count": 24
  }
 ],
 "metadata": {
  "kernelspec": {
   "display_name": "Python 3",
   "language": "python",
   "name": "python3"
  },
  "language_info": {
   "codemirror_mode": {
    "name": "ipython",
    "version": 2
   },
   "file_extension": ".py",
   "mimetype": "text/x-python",
   "name": "python",
   "nbconvert_exporter": "python",
   "pygments_lexer": "ipython2",
   "version": "2.7.6"
  }
 },
 "nbformat": 4,
 "nbformat_minor": 5
}
