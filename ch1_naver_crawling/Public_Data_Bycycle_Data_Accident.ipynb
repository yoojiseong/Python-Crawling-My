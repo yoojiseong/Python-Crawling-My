{
 "cells": [
  {
   "cell_type": "code",
   "id": "initial_id",
   "metadata": {
    "collapsed": true,
    "ExecuteTime": {
     "end_time": "2025-09-08T05:25:27.421458Z",
     "start_time": "2025-09-08T05:25:27.418218Z"
    }
   },
   "source": [
    "import urllib.request\n",
    "import json\n",
    "import pandas as pd\n",
    "import datetime\n",
    "import urllib.parse\n",
    "import ssl\n",
    "\n",
    "import matplotlib.pyplot as plt\n",
    "import numpy as np\n",
    "import matplotlib.font_manager as fm\n",
    "import platform\n",
    "\n",
    "# 공공데이터 API 키\n",
    "# 나중에 각자 자기키로 확인 해보기\n",
    "API_KEY = \"ALRX9GpugtvHxcIO/iPg1vXIQKi0E6Kk1ns4imt8BLTgdvSlH/AKv+A1GcGUQgzuzqM3Uv1ZGgpG5erOTDcYRQ==\"\n"
   ],
   "outputs": [],
   "execution_count": 4
  },
  {
   "metadata": {
    "ExecuteTime": {
     "end_time": "2025-09-08T05:25:28.873103Z",
     "start_time": "2025-09-08T05:25:28.852731Z"
    }
   },
   "cell_type": "code",
   "source": [
    "# 서울특별시 내 구/군 코드\n",
    "SEOUL_DISTRICTS = {\n",
    "    \"강남구\": 680, \"강동구\": 740, \"강북구\": 305, \"강서구\": 500, \"관악구\": 620, \"광진구\": 215,\n",
    "    \"구로구\": 530, \"금천구\": 545, \"노원구\": 350, \"도봉구\": 320, \"동대문구\": 230, \"동작구\": 590,\n",
    "    \"마포구\": 440, \"서대문구\": 410, \"서초구\": 650, \"성동구\": 200, \"성북구\": 290, \"송파구\": 710,\n",
    "    \"양천구\": 470, \"영등포구\": 560, \"용산구\": 170, \"은평구\": 380, \"종로구\": 110, \"중구\": 140, \"중랑구\": 260\n",
    "}\n",
    "# 최신 SSL/TLS 설정 적용\n",
    "context = ssl.create_default_context()\n",
    "context.set_ciphers('DEFAULT@SECLEVEL=1')"
   ],
   "id": "360324ae5009e859",
   "outputs": [],
   "execution_count": 5
  },
  {
   "metadata": {
    "ExecuteTime": {
     "end_time": "2025-09-08T05:25:30.721708Z",
     "start_time": "2025-09-08T05:25:30.716713Z"
    }
   },
   "cell_type": "code",
   "source": [
    "# 한글 폰트 설정 (Windows, Mac, Linux 자동 감지)\n",
    "def set_korean_font():\n",
    "    system_platform = platform.system()\n",
    "    if system_platform == \"Windows\":\n",
    "        font_path = \"C:/Windows/Fonts/malgun.ttf\"  # Windows: 맑은 고딕\n",
    "    elif system_platform == \"Darwin\":  # MacOS\n",
    "        font_path = \"/System/Library/Fonts/Supplemental/AppleGothic.ttf\"\n",
    "    else:  # Linux\n",
    "        font_path = \"/usr/share/fonts/truetype/nanum/NanumGothic.ttf\"\n",
    "\n",
    "    font_prop = fm.FontProperties(fname=font_path)\n",
    "\n",
    "    # Matplotlib 기본 폰트 설정\n",
    "    plt.rcParams[\"font.family\"] = font_prop.get_name()\n",
    "    plt.rcParams[\"axes.unicode_minus\"] = False  # 음수 기호 깨짐 방지\n",
    "\n",
    "\n",
    "# 한글 폰트 설정 적용\n",
    "set_korean_font()"
   ],
   "id": "87f8d82ed4030334",
   "outputs": [],
   "execution_count": 6
  },
  {
   "metadata": {
    "ExecuteTime": {
     "end_time": "2025-09-08T05:25:33.040349Z",
     "start_time": "2025-09-08T05:25:33.035148Z"
    }
   },
   "cell_type": "code",
   "source": [
    "# 구별 자전거 사고 데이터 시각화\n",
    "def visualizeData(result_df, guGun_name, searchYearCd):\n",
    "    plt.figure(figsize=(14, 7))\n",
    "\n",
    "    # 막대 그래프를 위한 데이터 설정\n",
    "    categories = [\"occrrnc_cnt\", \"caslt_cnt\", \"dth_dnv_cnt\", \"se_dnv_cnt\", \"sl_dnv_cnt\", \"wnd_dnv_cnt\"]\n",
    "    x_labels = result_df[\"sido_sgg_nm\"].unique()  # 구 이름\n",
    "\n",
    "    values = {cat: result_df.groupby(\"sido_sgg_nm\")[cat].sum() for cat in categories}\n",
    "\n",
    "    x = np.arange(len(x_labels))  # X축 위치 설정\n",
    "    width = 0.15  # 막대 너비\n",
    "\n",
    "    # 여러 개의 데이터 세트를 옆으로 배치\n",
    "    for i, cat in enumerate(categories):\n",
    "        plt.bar(x + i * width, values[cat], width, label=cat)\n",
    "\n",
    "    # X축 및 제목 설정\n",
    "    plt.xlabel(\"구 이름\", fontsize=14)\n",
    "    plt.ylabel(\"건수\", fontsize=14)\n",
    "    plt.title(f\"{searchYearCd}년 서울특별시 {guGun_name} 자전거 사고 통계\", fontsize=16)\n",
    "    plt.xticks(x + width, x_labels, rotation=45, fontsize=12)\n",
    "    plt.yticks(fontsize=12)\n",
    "    plt.legend(fontsize=12)\n",
    "\n",
    "    # 그래프 저장\n",
    "    plt.savefig(f\"bicycle_accidents_chart_{searchYearCd}_서울특별시_{guGun_name}.png\", dpi=300)\n",
    "    plt.show()\n",
    "    print(f\"✅ 그래프 저장 완료: bicycle_accidents_chart_{searchYearCd}_서울특별시_{guGun_name}.png\")"
   ],
   "id": "dc05a2c76f9a81f5",
   "outputs": [],
   "execution_count": 7
  },
  {
   "metadata": {
    "ExecuteTime": {
     "end_time": "2025-09-08T05:25:35.553840Z",
     "start_time": "2025-09-08T05:25:35.550357Z"
    }
   },
   "cell_type": "code",
   "source": [
    "# 요청을 보내고 데이터를 가져오는 함수\n",
    "def getRequestUrl(url):\n",
    "    req = urllib.request.Request(url)\n",
    "    try:\n",
    "        response = urllib.request.urlopen(req, context=context)\n",
    "        if response.getcode() == 200:\n",
    "            print(\"[%s] URL 요청 성공\" % datetime.datetime.now())\n",
    "            return response.read().decode(\"utf-8\")\n",
    "    except Exception as e:\n",
    "        print(\"[%s] 오류 발생: %s\" % (datetime.datetime.now(), str(e)))\n",
    "        return None"
   ],
   "id": "c3113e11cc5dcda4",
   "outputs": [],
   "execution_count": 8
  },
  {
   "metadata": {
    "ExecuteTime": {
     "end_time": "2025-09-08T05:25:37.286189Z",
     "start_time": "2025-09-08T05:25:37.278304Z"
    }
   },
   "cell_type": "code",
   "source": [
    "# API 요청 및 데이터 저장 함수\n",
    "def fetchAndSaveData(searchYearCd, siDo, guGun, numOfRows=100, pageNo=1):\n",
    "    base_url = \"https://apis.data.go.kr/B552061/frequentzoneBicycle/getRestFrequentzoneBicycle\"\n",
    "\n",
    "    params = {\n",
    "        \"ServiceKey\": API_KEY,\n",
    "        \"searchYearCd\": searchYearCd,\n",
    "        \"siDo\": siDo,\n",
    "        \"guGun\": guGun,\n",
    "        \"type\": \"json\",\n",
    "        \"numOfRows\": str(numOfRows),\n",
    "        \"pageNo\": str(pageNo),\n",
    "    }\n",
    "\n",
    "    # URL 인코딩\n",
    "    query_string = urllib.parse.urlencode(params, doseq=True)\n",
    "    url = f\"{base_url}?{query_string}\"\n",
    "\n",
    "    responseDecode = getRequestUrl(url)\n",
    "\n",
    "    # 응답이 None이거나 빈 문자열인지 확인\n",
    "    if responseDecode is None or responseDecode.strip() == \"\":\n",
    "        print(f\"🚨 [오류] API 응답이 비어 있습니다. 파일을 생성하지 않습니다. (구/군 코드: {guGun})\")\n",
    "        return\n",
    "\n",
    "    # JSON 파싱 전에 응답이 유효한 JSON인지 확인\n",
    "    try:\n",
    "        jsonData = json.loads(responseDecode)\n",
    "    except json.JSONDecodeError as e:\n",
    "        print(f\"🚨 [오류] JSON 변환 실패. 파일을 생성하지 않습니다. (구/군 코드: {guGun}): {e}\")\n",
    "        print(f\"응답 내용: {responseDecode[:200]} ...\")  # 응답 일부 출력\n",
    "        return\n",
    "\n",
    "    # API 응답에서 \"items\" 키가 존재하는지 확인\n",
    "    if \"items\" not in jsonData or \"item\" not in jsonData[\"items\"]:\n",
    "        print(f\"🚨 [오류] API 응답에 데이터가 없습니다. 파일을 생성하지 않습니다. (구/군 코드: {guGun})\")\n",
    "        return\n",
    "\n",
    "    dataList = jsonData[\"items\"][\"item\"]\n",
    "\n",
    "    if not dataList:  # 리스트가 비어있다면 저장하지 않음\n",
    "        print(f\"🚨 [오류] 응답 데이터가 없습니다. 파일을 생성하지 않습니다. (구/군 코드: {guGun})\")\n",
    "        return\n",
    "\n",
    "    jsonResult = []\n",
    "    result = []\n",
    "\n",
    "    for item in dataList:\n",
    "        jsonResult.append(item)\n",
    "        result.append([\n",
    "            item.get(\"afos_fid\", \"\"),\n",
    "            item.get(\"afos_id\", \"\"),\n",
    "            item.get(\"bjd_cd\", \"\"),\n",
    "            item.get(\"spot_cd\", \"\"),\n",
    "            item.get(\"sido_sgg_nm\", \"\"),\n",
    "            item.get(\"spot_nm\", \"\"),\n",
    "            item.get(\"occrrnc_cnt\", \"\"),\n",
    "            item.get(\"caslt_cnt\", \"\"),\n",
    "            item.get(\"dth_dnv_cnt\", \"\"),\n",
    "            item.get(\"se_dnv_cnt\", \"\"),\n",
    "            item.get(\"sl_dnv_cnt\", \"\"),\n",
    "            item.get(\"wnd_dnv_cnt\", \"\"),\n",
    "            item.get(\"lo_crd\", \"\"),\n",
    "            item.get(\"la_crd\", \"\"),\n",
    "        ])\n",
    "\n",
    "    # 파일 이름 설정\n",
    "    guGun_name = \"전체\" if guGun == \"9999\" else [k for k, v in SEOUL_DISTRICTS.items() if v == int(guGun)][0]\n",
    "    json_filename = f\"bicycle_accidents_{searchYearCd}_서울특별시_{guGun_name}.json\"\n",
    "    csv_filename = f\"bicycle_accidents_{searchYearCd}_서울특별시_{guGun_name}.csv\"\n",
    "\n",
    "    # JSON 파일 저장\n",
    "    with open(json_filename, \"w\", encoding=\"utf-8\") as outfile:\n",
    "        json.dump(jsonResult, outfile, indent=4, ensure_ascii=False)\n",
    "    print(f\"✅ JSON 데이터 저장 완료: {json_filename}\")\n",
    "\n",
    "    # CSV 파일 저장\n",
    "    columns = [\"afos_fid\", \"afos_id\", \"bjd_cd\", \"spot_cd\", \"sido_sgg_nm\", \"spot_nm\",\n",
    "               \"occrrnc_cnt\", \"caslt_cnt\", \"dth_dnv_cnt\", \"se_dnv_cnt\", \"sl_dnv_cnt\", \"wnd_dnv_cnt\",\n",
    "               \"lo_crd\", \"la_crd\"]\n",
    "    result_df = pd.DataFrame(result, columns=columns)\n",
    "    result_df.to_csv(csv_filename, index=False, encoding=\"utf-8-sig\")\n",
    "    print(f\"✅ CSV 데이터 저장 완료: {csv_filename}\")\n",
    "\n",
    "    # 그래프 시각화 실행 (CSV 데이터 활용)\n",
    "    visualizeData(result_df, guGun_name, searchYearCd)"
   ],
   "id": "e4d3b969f5dbc3c3",
   "outputs": [],
   "execution_count": 9
  },
  {
   "metadata": {
    "ExecuteTime": {
     "end_time": "2025-09-08T05:34:40.278454Z",
     "start_time": "2025-09-08T05:25:41.735961Z"
    }
   },
   "cell_type": "code",
   "source": [
    "# 실행\n",
    "if __name__ == \"__main__\":\n",
    "    searchYearCd = input(\"조회할 연도를 입력하세요 (예: 2023): \").strip()\n",
    "    siDo = \"11\"  # 서울특별시 고정\n",
    "\n",
    "    print(\"\\n서울특별시 내 구/군 선택 (9999 입력 시 전체 선택)\")\n",
    "    for district, code in SEOUL_DISTRICTS.items():\n",
    "        print(f\"{district}: {code}\", end=\" | \")\n",
    "\n",
    "    guGun = input(\"\\n구/군 코드를 입력하세요 (9999 입력 시 전체 선택): \").strip()\n",
    "\n",
    "    if guGun == \"9999\":\n",
    "        # 전체 구 데이터 요청\n",
    "        for gu in SEOUL_DISTRICTS.values():\n",
    "            fetchAndSaveData(searchYearCd, siDo, str(gu))\n",
    "    else:\n",
    "        if guGun not in map(str, SEOUL_DISTRICTS.values()):\n",
    "            print(\"잘못된 구/군 코드입니다. 프로그램을 종료합니다.\")\n",
    "        else:\n",
    "            fetchAndSaveData(searchYearCd, siDo, guGun)"
   ],
   "id": "bdcb67ca827c5bd4",
   "outputs": [
    {
     "name": "stdout",
     "output_type": "stream",
     "text": [
      "\n",
      "서울특별시 내 구/군 선택 (9999 입력 시 전체 선택)\n",
      "강남구: 680 | 강동구: 740 | 강북구: 305 | 강서구: 500 | 관악구: 620 | 광진구: 215 | 구로구: 530 | 금천구: 545 | 노원구: 350 | 도봉구: 320 | 동대문구: 230 | 동작구: 590 | 마포구: 440 | 서대문구: 410 | 서초구: 650 | 성동구: 200 | 성북구: 290 | 송파구: 710 | 양천구: 470 | 영등포구: 560 | 용산구: 170 | 은평구: 380 | 종로구: 110 | 중구: 140 | 중랑구: 260 | [2025-09-08 14:26:15.270039] 오류 발생: <urlopen error [WinError 10060] 연결된 구성원으로부터 응답이 없어 연결하지 못했거나, 호스트로부터 응답이 없어 연결이 끊어졌습니다>\n",
      "🚨 [오류] API 응답이 비어 있습니다. 파일을 생성하지 않습니다. (구/군 코드: 680)\n",
      "[2025-09-08 14:26:36.314486] 오류 발생: <urlopen error [WinError 10060] 연결된 구성원으로부터 응답이 없어 연결하지 못했거나, 호스트로부터 응답이 없어 연결이 끊어졌습니다>\n",
      "🚨 [오류] API 응답이 비어 있습니다. 파일을 생성하지 않습니다. (구/군 코드: 740)\n",
      "[2025-09-08 14:26:57.340795] 오류 발생: <urlopen error [WinError 10060] 연결된 구성원으로부터 응답이 없어 연결하지 못했거나, 호스트로부터 응답이 없어 연결이 끊어졌습니다>\n",
      "🚨 [오류] API 응답이 비어 있습니다. 파일을 생성하지 않습니다. (구/군 코드: 305)\n",
      "[2025-09-08 14:27:18.399701] 오류 발생: <urlopen error [WinError 10060] 연결된 구성원으로부터 응답이 없어 연결하지 못했거나, 호스트로부터 응답이 없어 연결이 끊어졌습니다>\n",
      "🚨 [오류] API 응답이 비어 있습니다. 파일을 생성하지 않습니다. (구/군 코드: 500)\n",
      "[2025-09-08 14:27:39.453834] 오류 발생: <urlopen error [WinError 10060] 연결된 구성원으로부터 응답이 없어 연결하지 못했거나, 호스트로부터 응답이 없어 연결이 끊어졌습니다>\n",
      "🚨 [오류] API 응답이 비어 있습니다. 파일을 생성하지 않습니다. (구/군 코드: 620)\n",
      "[2025-09-08 14:28:00.492426] 오류 발생: <urlopen error [WinError 10060] 연결된 구성원으로부터 응답이 없어 연결하지 못했거나, 호스트로부터 응답이 없어 연결이 끊어졌습니다>\n",
      "🚨 [오류] API 응답이 비어 있습니다. 파일을 생성하지 않습니다. (구/군 코드: 215)\n",
      "[2025-09-08 14:28:21.526865] 오류 발생: <urlopen error [WinError 10060] 연결된 구성원으로부터 응답이 없어 연결하지 못했거나, 호스트로부터 응답이 없어 연결이 끊어졌습니다>\n",
      "🚨 [오류] API 응답이 비어 있습니다. 파일을 생성하지 않습니다. (구/군 코드: 530)\n",
      "[2025-09-08 14:28:42.569171] 오류 발생: <urlopen error [WinError 10060] 연결된 구성원으로부터 응답이 없어 연결하지 못했거나, 호스트로부터 응답이 없어 연결이 끊어졌습니다>\n",
      "🚨 [오류] API 응답이 비어 있습니다. 파일을 생성하지 않습니다. (구/군 코드: 545)\n",
      "[2025-09-08 14:29:03.604436] 오류 발생: <urlopen error [WinError 10060] 연결된 구성원으로부터 응답이 없어 연결하지 못했거나, 호스트로부터 응답이 없어 연결이 끊어졌습니다>\n",
      "🚨 [오류] API 응답이 비어 있습니다. 파일을 생성하지 않습니다. (구/군 코드: 350)\n",
      "[2025-09-08 14:29:24.644317] 오류 발생: <urlopen error [WinError 10060] 연결된 구성원으로부터 응답이 없어 연결하지 못했거나, 호스트로부터 응답이 없어 연결이 끊어졌습니다>\n",
      "🚨 [오류] API 응답이 비어 있습니다. 파일을 생성하지 않습니다. (구/군 코드: 320)\n",
      "[2025-09-08 14:29:45.691367] 오류 발생: <urlopen error [WinError 10060] 연결된 구성원으로부터 응답이 없어 연결하지 못했거나, 호스트로부터 응답이 없어 연결이 끊어졌습니다>\n",
      "🚨 [오류] API 응답이 비어 있습니다. 파일을 생성하지 않습니다. (구/군 코드: 230)\n",
      "[2025-09-08 14:30:06.745870] 오류 발생: <urlopen error [WinError 10060] 연결된 구성원으로부터 응답이 없어 연결하지 못했거나, 호스트로부터 응답이 없어 연결이 끊어졌습니다>\n",
      "🚨 [오류] API 응답이 비어 있습니다. 파일을 생성하지 않습니다. (구/군 코드: 590)\n",
      "[2025-09-08 14:30:27.780729] 오류 발생: <urlopen error [WinError 10060] 연결된 구성원으로부터 응답이 없어 연결하지 못했거나, 호스트로부터 응답이 없어 연결이 끊어졌습니다>\n",
      "🚨 [오류] API 응답이 비어 있습니다. 파일을 생성하지 않습니다. (구/군 코드: 440)\n",
      "[2025-09-08 14:30:48.804274] 오류 발생: <urlopen error [WinError 10060] 연결된 구성원으로부터 응답이 없어 연결하지 못했거나, 호스트로부터 응답이 없어 연결이 끊어졌습니다>\n",
      "🚨 [오류] API 응답이 비어 있습니다. 파일을 생성하지 않습니다. (구/군 코드: 410)\n",
      "[2025-09-08 14:31:09.855368] 오류 발생: <urlopen error [WinError 10060] 연결된 구성원으로부터 응답이 없어 연결하지 못했거나, 호스트로부터 응답이 없어 연결이 끊어졌습니다>\n",
      "🚨 [오류] API 응답이 비어 있습니다. 파일을 생성하지 않습니다. (구/군 코드: 650)\n",
      "[2025-09-08 14:31:30.883878] 오류 발생: <urlopen error [WinError 10060] 연결된 구성원으로부터 응답이 없어 연결하지 못했거나, 호스트로부터 응답이 없어 연결이 끊어졌습니다>\n",
      "🚨 [오류] API 응답이 비어 있습니다. 파일을 생성하지 않습니다. (구/군 코드: 200)\n",
      "[2025-09-08 14:31:51.923957] 오류 발생: <urlopen error [WinError 10060] 연결된 구성원으로부터 응답이 없어 연결하지 못했거나, 호스트로부터 응답이 없어 연결이 끊어졌습니다>\n",
      "🚨 [오류] API 응답이 비어 있습니다. 파일을 생성하지 않습니다. (구/군 코드: 290)\n",
      "[2025-09-08 14:32:12.960566] 오류 발생: <urlopen error [WinError 10060] 연결된 구성원으로부터 응답이 없어 연결하지 못했거나, 호스트로부터 응답이 없어 연결이 끊어졌습니다>\n",
      "🚨 [오류] API 응답이 비어 있습니다. 파일을 생성하지 않습니다. (구/군 코드: 710)\n",
      "[2025-09-08 14:32:34.008209] 오류 발생: <urlopen error [WinError 10060] 연결된 구성원으로부터 응답이 없어 연결하지 못했거나, 호스트로부터 응답이 없어 연결이 끊어졌습니다>\n",
      "🚨 [오류] API 응답이 비어 있습니다. 파일을 생성하지 않습니다. (구/군 코드: 470)\n",
      "[2025-09-08 14:32:55.057138] 오류 발생: <urlopen error [WinError 10060] 연결된 구성원으로부터 응답이 없어 연결하지 못했거나, 호스트로부터 응답이 없어 연결이 끊어졌습니다>\n",
      "🚨 [오류] API 응답이 비어 있습니다. 파일을 생성하지 않습니다. (구/군 코드: 560)\n",
      "[2025-09-08 14:33:16.115694] 오류 발생: <urlopen error [WinError 10060] 연결된 구성원으로부터 응답이 없어 연결하지 못했거나, 호스트로부터 응답이 없어 연결이 끊어졌습니다>\n",
      "🚨 [오류] API 응답이 비어 있습니다. 파일을 생성하지 않습니다. (구/군 코드: 170)\n",
      "[2025-09-08 14:33:37.163076] 오류 발생: <urlopen error [WinError 10060] 연결된 구성원으로부터 응답이 없어 연결하지 못했거나, 호스트로부터 응답이 없어 연결이 끊어졌습니다>\n",
      "🚨 [오류] API 응답이 비어 있습니다. 파일을 생성하지 않습니다. (구/군 코드: 380)\n",
      "[2025-09-08 14:33:58.194961] 오류 발생: <urlopen error [WinError 10060] 연결된 구성원으로부터 응답이 없어 연결하지 못했거나, 호스트로부터 응답이 없어 연결이 끊어졌습니다>\n",
      "🚨 [오류] API 응답이 비어 있습니다. 파일을 생성하지 않습니다. (구/군 코드: 110)\n",
      "[2025-09-08 14:34:19.248735] 오류 발생: <urlopen error [WinError 10060] 연결된 구성원으로부터 응답이 없어 연결하지 못했거나, 호스트로부터 응답이 없어 연결이 끊어졌습니다>\n",
      "🚨 [오류] API 응답이 비어 있습니다. 파일을 생성하지 않습니다. (구/군 코드: 140)\n",
      "[2025-09-08 14:34:40.276240] 오류 발생: <urlopen error [WinError 10060] 연결된 구성원으로부터 응답이 없어 연결하지 못했거나, 호스트로부터 응답이 없어 연결이 끊어졌습니다>\n",
      "🚨 [오류] API 응답이 비어 있습니다. 파일을 생성하지 않습니다. (구/군 코드: 260)\n"
     ]
    }
   ],
   "execution_count": 10
  },
  {
   "metadata": {
    "ExecuteTime": {
     "end_time": "2025-09-08T05:22:20.277495Z",
     "start_time": "2025-09-08T05:22:20.275818Z"
    }
   },
   "cell_type": "code",
   "source": "",
   "id": "5c24c90a04568647",
   "outputs": [],
   "execution_count": null
  }
 ],
 "metadata": {
  "kernelspec": {
   "display_name": "Python 3",
   "language": "python",
   "name": "python3"
  },
  "language_info": {
   "codemirror_mode": {
    "name": "ipython",
    "version": 2
   },
   "file_extension": ".py",
   "mimetype": "text/x-python",
   "name": "python",
   "nbconvert_exporter": "python",
   "pygments_lexer": "ipython2",
   "version": "2.7.6"
  }
 },
 "nbformat": 4,
 "nbformat_minor": 5
}
